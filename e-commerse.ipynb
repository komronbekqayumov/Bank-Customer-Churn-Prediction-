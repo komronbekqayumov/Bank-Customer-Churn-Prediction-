{
 "cells": [
  {
   "cell_type": "markdown",
   "id": "f08a9480",
   "metadata": {
    "papermill": {
     "duration": 0.014294,
     "end_time": "2025-10-16T12:36:13.768896",
     "exception": false,
     "start_time": "2025-10-16T12:36:13.754602",
     "status": "completed"
    },
    "tags": []
   },
   "source": [
    "# Problem Statement :\n",
    "An online retail store is trying to understand the various customer purchase patterns for their firm, required to give enough evidence based insights to provide the same."
   ]
  },
  {
   "cell_type": "markdown",
   "id": "190b6c2d",
   "metadata": {
    "papermill": {
     "duration": 0.012857,
     "end_time": "2025-10-16T12:36:13.795876",
     "exception": false,
     "start_time": "2025-10-16T12:36:13.783019",
     "status": "completed"
    },
    "tags": []
   },
   "source": [
    "# Dataset Information:\n",
    "The online_retail.csv contains 541909 rows and 8 columns."
   ]
  },
  {
   "cell_type": "markdown",
   "id": "1693ebf7",
   "metadata": {
    "papermill": {
     "duration": 0.013311,
     "end_time": "2025-10-16T12:36:13.822697",
     "exception": false,
     "start_time": "2025-10-16T12:36:13.809386",
     "status": "completed"
    },
    "tags": []
   },
   "source": [
    "# Feature Name : Description\n",
    "Invoice : Invoice number\n",
    "StockCode: Product ID\n",
    "Description: Product Description\n",
    "Quantity: Quantity of the product\n",
    "InvoiceDate: Date of the invoice\n",
    "Price: Price of the product per unit\n",
    "CustomerID: Customer ID\n",
    "Country: Region of Purchase\n"
   ]
  },
  {
   "cell_type": "markdown",
   "id": "8789417d",
   "metadata": {
    "papermill": {
     "duration": 0.012605,
     "end_time": "2025-10-16T12:36:13.848222",
     "exception": false,
     "start_time": "2025-10-16T12:36:13.835617",
     "status": "completed"
    },
    "tags": []
   },
   "source": [
    "# Project Objective:\n",
    "Using the above data, finding useful insights about the customer purchasing history that can be an added advantage for the online retailer. Segment the customers based on their purchasing behavior."
   ]
  },
  {
   "cell_type": "markdown",
   "id": "905c40da",
   "metadata": {
    "papermill": {
     "duration": 0.012575,
     "end_time": "2025-10-16T12:36:13.873557",
     "exception": false,
     "start_time": "2025-10-16T12:36:13.860982",
     "status": "completed"
    },
    "tags": []
   },
   "source": [
    "# Exploratary Data Analysis\n",
    "\n",
    "Pre-processing of the data included the following steps:\n",
    "Loading the Online_retail dataset.\n",
    "Inspect for missing data and take necessary action as per the following: a. Remove the rows with missing value if their number is insignificant b. Replace the missing values with the mean or median if the feature is numeric c. Replace the missing values with the mode if the feature is object type But in this case we have 136,534 total missing values are there in the dataset, this dataset has total 541909 records. it's a big dataset if we remove the missing values from the dataset also still we can have enough records of data for build a model, so I am going to drop that missing values from the dataset for future analysis.\n",
    "Convert the feature InvoiceDate into datetime format.\n",
    "Identifying Correlation between features.\n",
    "Box Plotting the data using with matplotlib.pyplot and seaborn for checking outliers.\n",
    "Creating Revenue feature from Quantity and UnitPrice for checking total.\n",
    "Identifying which country has more sales.\n",
    "Identifying top selling products in the country.\n",
    "Identifying which month, year, day and hour has more sales.\n",
    "Identifying cancelled transactions and drop them.\n",
    "Split the InvoiceDate feature into month, day, week and year.\n",
    "Scale the data.\n",
    "Using the train_test_split from sklearn.model_selection module, extract the X_train, X_test, y_train, y_test for the various models with data split of 80:20 and random_state=0"
   ]
  },
  {
   "cell_type": "markdown",
   "id": "3c628059",
   "metadata": {
    "papermill": {
     "duration": 0.013614,
     "end_time": "2025-10-16T12:36:13.900307",
     "exception": false,
     "start_time": "2025-10-16T12:36:13.886693",
     "status": "completed"
    },
    "tags": []
   },
   "source": [
    "# Assumptions:\n",
    "\n",
    "\n",
    "There is no significant correlation between features in the data. There are outliers in Quantity and Unitprice columns so I removed for future calculations. From country feature I found UnitedKingdom has majority(90%) of sales, so I extracted where country is UnitedKingdom and perform future calculations."
   ]
  },
  {
   "cell_type": "markdown",
   "id": "f2492a68",
   "metadata": {
    "papermill": {
     "duration": 0.013239,
     "end_time": "2025-10-16T12:36:13.926457",
     "exception": false,
     "start_time": "2025-10-16T12:36:13.913218",
     "status": "completed"
    },
    "tags": []
   },
   "source": [
    "# Choosing the Algorithm for the Project:\n",
    "This data has no dependent feature, so I did use clustering technique for Segment the customers based on their purchasing behavior with KMeans clustering: k-means clustering is a method of vector quantization, originally from signal processing, that aims to partition on observations into k clusters in which each observation belongs to the cluster with the nearest mean (cluster centers or cluster centroid), serving as a prototype of the cluster. after getting clusters it's a classification problem, so I built LogisticRegression, DecisionTreeClassifier and XGBClassifier for better accuracy, these models are giving better accuracy."
   ]
  },
  {
   "cell_type": "markdown",
   "id": "c8472f00",
   "metadata": {
    "papermill": {
     "duration": 0.013192,
     "end_time": "2025-10-16T12:36:13.952474",
     "exception": false,
     "start_time": "2025-10-16T12:36:13.939282",
     "status": "completed"
    },
    "tags": []
   },
   "source": [
    "# Conclusion:\n",
    "Logistic regression, DecisionTree classifier, RandomForestClassifier and XGBoost classifiers gave more than 98% accuracy."
   ]
  },
  {
   "cell_type": "code",
   "execution_count": 1,
   "id": "5c7e8c93",
   "metadata": {
    "_cell_guid": "b1076dfc-b9ad-4769-8c92-a6c4dae69d19",
    "_uuid": "8f2839f25d086af736a60e9eeb907d3b93b6e0e5",
    "execution": {
     "iopub.execute_input": "2025-10-16T12:36:13.983515Z",
     "iopub.status.busy": "2025-10-16T12:36:13.983059Z",
     "iopub.status.idle": "2025-10-16T12:36:15.925173Z",
     "shell.execute_reply": "2025-10-16T12:36:15.924059Z"
    },
    "papermill": {
     "duration": 1.961645,
     "end_time": "2025-10-16T12:36:15.926826",
     "exception": false,
     "start_time": "2025-10-16T12:36:13.965181",
     "status": "completed"
    },
    "tags": []
   },
   "outputs": [
    {
     "name": "stdout",
     "output_type": "stream",
     "text": [
      "/kaggle/input/online-retail-data/OnlineRetail.csv\n"
     ]
    }
   ],
   "source": [
    "# This Python 3 environment comes with many helpful analytics libraries installed\n",
    "# It is defined by the kaggle/python Docker image: https://github.com/kaggle/docker-python\n",
    "# For example, here's several helpful packages to load\n",
    "\n",
    "import numpy as np # linear algebra\n",
    "import pandas as pd # data processing, CSV file I/O (e.g. pd.read_csv)\n",
    "\n",
    "# Input data files are available in the read-only \"../input/\" directory\n",
    "# For example, running this (by clicking run or pressing Shift+Enter) will list all files under the input directory\n",
    "\n",
    "import os\n",
    "for dirname, _, filenames in os.walk('/kaggle/input'):\n",
    "    for filename in filenames:\n",
    "        print(os.path.join(dirname, filename))\n",
    "\n",
    "# You can write up to 20GB to the current directory (/kaggle/working/) that gets preserved as output when you create a version using \"Save & Run All\" \n",
    "# You can also write temporary files to /kaggle/temp/, but they won't be saved outside of the current session"
   ]
  },
  {
   "cell_type": "markdown",
   "id": "8dc311bf",
   "metadata": {
    "papermill": {
     "duration": 0.012698,
     "end_time": "2025-10-16T12:36:15.953147",
     "exception": false,
     "start_time": "2025-10-16T12:36:15.940449",
     "status": "completed"
    },
    "tags": []
   },
   "source": [
    "# Importing libraries:"
   ]
  },
  {
   "cell_type": "code",
   "execution_count": 2,
   "id": "fbd94864",
   "metadata": {
    "execution": {
     "iopub.execute_input": "2025-10-16T12:36:15.980306Z",
     "iopub.status.busy": "2025-10-16T12:36:15.979831Z",
     "iopub.status.idle": "2025-10-16T12:36:18.015998Z",
     "shell.execute_reply": "2025-10-16T12:36:18.014794Z"
    },
    "papermill": {
     "duration": 2.051996,
     "end_time": "2025-10-16T12:36:18.017956",
     "exception": false,
     "start_time": "2025-10-16T12:36:15.965960",
     "status": "completed"
    },
    "tags": []
   },
   "outputs": [],
   "source": [
    "import pandas as pd\n",
    "import matplotlib.pyplot as plt\n",
    "import seaborn as sns\n",
    "import warnings\n",
    "warnings.filterwarnings('ignore')"
   ]
  },
  {
   "cell_type": "markdown",
   "id": "187b9326",
   "metadata": {
    "papermill": {
     "duration": 0.012629,
     "end_time": "2025-10-16T12:36:18.043720",
     "exception": false,
     "start_time": "2025-10-16T12:36:18.031091",
     "status": "completed"
    },
    "tags": []
   },
   "source": [
    "# Importing dataset:"
   ]
  },
  {
   "cell_type": "code",
   "execution_count": 3,
   "id": "37d989d5",
   "metadata": {
    "execution": {
     "iopub.execute_input": "2025-10-16T12:36:18.071174Z",
     "iopub.status.busy": "2025-10-16T12:36:18.070664Z",
     "iopub.status.idle": "2025-10-16T12:36:19.565843Z",
     "shell.execute_reply": "2025-10-16T12:36:19.564883Z"
    },
    "papermill": {
     "duration": 1.510649,
     "end_time": "2025-10-16T12:36:19.567473",
     "exception": false,
     "start_time": "2025-10-16T12:36:18.056824",
     "status": "completed"
    },
    "tags": []
   },
   "outputs": [
    {
     "data": {
      "text/html": [
       "<div>\n",
       "<style scoped>\n",
       "    .dataframe tbody tr th:only-of-type {\n",
       "        vertical-align: middle;\n",
       "    }\n",
       "\n",
       "    .dataframe tbody tr th {\n",
       "        vertical-align: top;\n",
       "    }\n",
       "\n",
       "    .dataframe thead th {\n",
       "        text-align: right;\n",
       "    }\n",
       "</style>\n",
       "<table border=\"1\" class=\"dataframe\">\n",
       "  <thead>\n",
       "    <tr style=\"text-align: right;\">\n",
       "      <th></th>\n",
       "      <th>InvoiceNo</th>\n",
       "      <th>StockCode</th>\n",
       "      <th>Description</th>\n",
       "      <th>Quantity</th>\n",
       "      <th>InvoiceDate</th>\n",
       "      <th>UnitPrice</th>\n",
       "      <th>CustomerID</th>\n",
       "      <th>Country</th>\n",
       "    </tr>\n",
       "  </thead>\n",
       "  <tbody>\n",
       "    <tr>\n",
       "      <th>0</th>\n",
       "      <td>536365</td>\n",
       "      <td>85123A</td>\n",
       "      <td>WHITE HANGING HEART T-LIGHT HOLDER</td>\n",
       "      <td>6</td>\n",
       "      <td>12/1/2010 8:26</td>\n",
       "      <td>2.55</td>\n",
       "      <td>17850.0</td>\n",
       "      <td>United Kingdom</td>\n",
       "    </tr>\n",
       "    <tr>\n",
       "      <th>1</th>\n",
       "      <td>536365</td>\n",
       "      <td>71053</td>\n",
       "      <td>WHITE METAL LANTERN</td>\n",
       "      <td>6</td>\n",
       "      <td>12/1/2010 8:26</td>\n",
       "      <td>3.39</td>\n",
       "      <td>17850.0</td>\n",
       "      <td>United Kingdom</td>\n",
       "    </tr>\n",
       "    <tr>\n",
       "      <th>2</th>\n",
       "      <td>536365</td>\n",
       "      <td>84406B</td>\n",
       "      <td>CREAM CUPID HEARTS COAT HANGER</td>\n",
       "      <td>8</td>\n",
       "      <td>12/1/2010 8:26</td>\n",
       "      <td>2.75</td>\n",
       "      <td>17850.0</td>\n",
       "      <td>United Kingdom</td>\n",
       "    </tr>\n",
       "    <tr>\n",
       "      <th>3</th>\n",
       "      <td>536365</td>\n",
       "      <td>84029G</td>\n",
       "      <td>KNITTED UNION FLAG HOT WATER BOTTLE</td>\n",
       "      <td>6</td>\n",
       "      <td>12/1/2010 8:26</td>\n",
       "      <td>3.39</td>\n",
       "      <td>17850.0</td>\n",
       "      <td>United Kingdom</td>\n",
       "    </tr>\n",
       "    <tr>\n",
       "      <th>4</th>\n",
       "      <td>536365</td>\n",
       "      <td>84029E</td>\n",
       "      <td>RED WOOLLY HOTTIE WHITE HEART.</td>\n",
       "      <td>6</td>\n",
       "      <td>12/1/2010 8:26</td>\n",
       "      <td>3.39</td>\n",
       "      <td>17850.0</td>\n",
       "      <td>United Kingdom</td>\n",
       "    </tr>\n",
       "  </tbody>\n",
       "</table>\n",
       "</div>"
      ],
      "text/plain": [
       "  InvoiceNo StockCode                          Description  Quantity  \\\n",
       "0    536365    85123A   WHITE HANGING HEART T-LIGHT HOLDER         6   \n",
       "1    536365     71053                  WHITE METAL LANTERN         6   \n",
       "2    536365    84406B       CREAM CUPID HEARTS COAT HANGER         8   \n",
       "3    536365    84029G  KNITTED UNION FLAG HOT WATER BOTTLE         6   \n",
       "4    536365    84029E       RED WOOLLY HOTTIE WHITE HEART.         6   \n",
       "\n",
       "      InvoiceDate  UnitPrice  CustomerID         Country  \n",
       "0  12/1/2010 8:26       2.55     17850.0  United Kingdom  \n",
       "1  12/1/2010 8:26       3.39     17850.0  United Kingdom  \n",
       "2  12/1/2010 8:26       2.75     17850.0  United Kingdom  \n",
       "3  12/1/2010 8:26       3.39     17850.0  United Kingdom  \n",
       "4  12/1/2010 8:26       3.39     17850.0  United Kingdom  "
      ]
     },
     "execution_count": 3,
     "metadata": {},
     "output_type": "execute_result"
    }
   ],
   "source": [
    "df = pd.read_csv(r'/kaggle/input/online-retail-data/OnlineRetail.csv',encoding = 'unicode_escape')\n",
    "df.head()"
   ]
  },
  {
   "cell_type": "code",
   "execution_count": 4,
   "id": "d2ea8ce6",
   "metadata": {
    "execution": {
     "iopub.execute_input": "2025-10-16T12:36:19.595679Z",
     "iopub.status.busy": "2025-10-16T12:36:19.595384Z",
     "iopub.status.idle": "2025-10-16T12:36:19.601147Z",
     "shell.execute_reply": "2025-10-16T12:36:19.600232Z"
    },
    "papermill": {
     "duration": 0.021431,
     "end_time": "2025-10-16T12:36:19.602625",
     "exception": false,
     "start_time": "2025-10-16T12:36:19.581194",
     "status": "completed"
    },
    "tags": []
   },
   "outputs": [
    {
     "data": {
      "text/plain": [
       "(541909, 8)"
      ]
     },
     "execution_count": 4,
     "metadata": {},
     "output_type": "execute_result"
    }
   ],
   "source": [
    "# shape of the data:\n",
    "df.shape"
   ]
  },
  {
   "cell_type": "markdown",
   "id": "f3708c0b",
   "metadata": {
    "papermill": {
     "duration": 0.012799,
     "end_time": "2025-10-16T12:36:19.628677",
     "exception": false,
     "start_time": "2025-10-16T12:36:19.615878",
     "status": "completed"
    },
    "tags": []
   },
   "source": [
    "# checking null values in the dataset:¶\n"
   ]
  },
  {
   "cell_type": "code",
   "execution_count": 5,
   "id": "b5dd2ae1",
   "metadata": {
    "execution": {
     "iopub.execute_input": "2025-10-16T12:36:19.655891Z",
     "iopub.status.busy": "2025-10-16T12:36:19.655544Z",
     "iopub.status.idle": "2025-10-16T12:36:19.803928Z",
     "shell.execute_reply": "2025-10-16T12:36:19.802904Z"
    },
    "papermill": {
     "duration": 0.164009,
     "end_time": "2025-10-16T12:36:19.805684",
     "exception": false,
     "start_time": "2025-10-16T12:36:19.641675",
     "status": "completed"
    },
    "tags": []
   },
   "outputs": [
    {
     "data": {
      "text/plain": [
       "InvoiceNo           0\n",
       "StockCode           0\n",
       "Description      1454\n",
       "Quantity            0\n",
       "InvoiceDate         0\n",
       "UnitPrice           0\n",
       "CustomerID     135080\n",
       "Country             0\n",
       "dtype: int64"
      ]
     },
     "execution_count": 5,
     "metadata": {},
     "output_type": "execute_result"
    }
   ],
   "source": [
    "df.isnull().sum()"
   ]
  },
  {
   "cell_type": "markdown",
   "id": "8d60cf04",
   "metadata": {
    "papermill": {
     "duration": 0.013046,
     "end_time": "2025-10-16T12:36:19.832671",
     "exception": false,
     "start_time": "2025-10-16T12:36:19.819625",
     "status": "completed"
    },
    "tags": []
   },
   "source": [
    "there are null values presented in Description and CustomerID columns, online_retail is large dataset lets drop the null values for future calculations."
   ]
  },
  {
   "cell_type": "markdown",
   "id": "19b03041",
   "metadata": {
    "papermill": {
     "duration": 0.013516,
     "end_time": "2025-10-16T12:36:19.859308",
     "exception": false,
     "start_time": "2025-10-16T12:36:19.845792",
     "status": "completed"
    },
    "tags": []
   },
   "source": [
    "# Dropping null values:"
   ]
  },
  {
   "cell_type": "code",
   "execution_count": 6,
   "id": "0f148449",
   "metadata": {
    "execution": {
     "iopub.execute_input": "2025-10-16T12:36:19.887360Z",
     "iopub.status.busy": "2025-10-16T12:36:19.886638Z",
     "iopub.status.idle": "2025-10-16T12:36:20.064226Z",
     "shell.execute_reply": "2025-10-16T12:36:20.063233Z"
    },
    "papermill": {
     "duration": 0.193233,
     "end_time": "2025-10-16T12:36:20.065956",
     "exception": false,
     "start_time": "2025-10-16T12:36:19.872723",
     "status": "completed"
    },
    "tags": []
   },
   "outputs": [],
   "source": [
    "# dropping null values:\n",
    "df.dropna(inplace=True)"
   ]
  },
  {
   "cell_type": "markdown",
   "id": "3305b4a8",
   "metadata": {
    "papermill": {
     "duration": 0.012948,
     "end_time": "2025-10-16T12:36:20.093162",
     "exception": false,
     "start_time": "2025-10-16T12:36:20.080214",
     "status": "completed"
    },
    "tags": []
   },
   "source": [
    "# Information of the data:"
   ]
  },
  {
   "cell_type": "code",
   "execution_count": 7,
   "id": "9109af72",
   "metadata": {
    "execution": {
     "iopub.execute_input": "2025-10-16T12:36:20.125081Z",
     "iopub.status.busy": "2025-10-16T12:36:20.124717Z",
     "iopub.status.idle": "2025-10-16T12:36:20.244714Z",
     "shell.execute_reply": "2025-10-16T12:36:20.243743Z"
    },
    "papermill": {
     "duration": 0.136787,
     "end_time": "2025-10-16T12:36:20.246463",
     "exception": false,
     "start_time": "2025-10-16T12:36:20.109676",
     "status": "completed"
    },
    "tags": []
   },
   "outputs": [
    {
     "data": {
      "text/plain": [
       "InvoiceNo      0\n",
       "StockCode      0\n",
       "Description    0\n",
       "Quantity       0\n",
       "InvoiceDate    0\n",
       "UnitPrice      0\n",
       "CustomerID     0\n",
       "Country        0\n",
       "dtype: int64"
      ]
     },
     "execution_count": 7,
     "metadata": {},
     "output_type": "execute_result"
    }
   ],
   "source": [
    "df.isnull().sum()"
   ]
  },
  {
   "cell_type": "code",
   "execution_count": 8,
   "id": "47abc172",
   "metadata": {
    "execution": {
     "iopub.execute_input": "2025-10-16T12:36:20.274953Z",
     "iopub.status.busy": "2025-10-16T12:36:20.274533Z",
     "iopub.status.idle": "2025-10-16T12:36:20.406683Z",
     "shell.execute_reply": "2025-10-16T12:36:20.405441Z"
    },
    "papermill": {
     "duration": 0.148653,
     "end_time": "2025-10-16T12:36:20.408722",
     "exception": false,
     "start_time": "2025-10-16T12:36:20.260069",
     "status": "completed"
    },
    "tags": []
   },
   "outputs": [
    {
     "name": "stdout",
     "output_type": "stream",
     "text": [
      "<class 'pandas.core.frame.DataFrame'>\n",
      "Index: 406829 entries, 0 to 541908\n",
      "Data columns (total 8 columns):\n",
      " #   Column       Non-Null Count   Dtype  \n",
      "---  ------       --------------   -----  \n",
      " 0   InvoiceNo    406829 non-null  object \n",
      " 1   StockCode    406829 non-null  object \n",
      " 2   Description  406829 non-null  object \n",
      " 3   Quantity     406829 non-null  int64  \n",
      " 4   InvoiceDate  406829 non-null  object \n",
      " 5   UnitPrice    406829 non-null  float64\n",
      " 6   CustomerID   406829 non-null  float64\n",
      " 7   Country      406829 non-null  object \n",
      "dtypes: float64(2), int64(1), object(5)\n",
      "memory usage: 27.9+ MB\n"
     ]
    }
   ],
   "source": [
    "# checking information about the dataset\n",
    "df.info()"
   ]
  },
  {
   "cell_type": "markdown",
   "id": "ed252069",
   "metadata": {
    "papermill": {
     "duration": 0.013012,
     "end_time": "2025-10-16T12:36:20.435643",
     "exception": false,
     "start_time": "2025-10-16T12:36:20.422631",
     "status": "completed"
    },
    "tags": []
   },
   "source": [
    "# Changing InvoiceDate to datatime:"
   ]
  },
  {
   "cell_type": "code",
   "execution_count": 9,
   "id": "e4e839db",
   "metadata": {
    "execution": {
     "iopub.execute_input": "2025-10-16T12:36:20.463401Z",
     "iopub.status.busy": "2025-10-16T12:36:20.463071Z",
     "iopub.status.idle": "2025-10-16T12:36:20.587575Z",
     "shell.execute_reply": "2025-10-16T12:36:20.586530Z"
    },
    "papermill": {
     "duration": 0.140579,
     "end_time": "2025-10-16T12:36:20.589383",
     "exception": false,
     "start_time": "2025-10-16T12:36:20.448804",
     "status": "completed"
    },
    "tags": []
   },
   "outputs": [],
   "source": [
    "# InvoiceDate is in object format, changing object to datetime format\n",
    "df['InvoiceDate']=pd.to_datetime(df['InvoiceDate'])"
   ]
  },
  {
   "cell_type": "code",
   "execution_count": 10,
   "id": "b8de2689",
   "metadata": {
    "execution": {
     "iopub.execute_input": "2025-10-16T12:36:20.620217Z",
     "iopub.status.busy": "2025-10-16T12:36:20.619887Z",
     "iopub.status.idle": "2025-10-16T12:36:20.718543Z",
     "shell.execute_reply": "2025-10-16T12:36:20.717405Z"
    },
    "papermill": {
     "duration": 0.116665,
     "end_time": "2025-10-16T12:36:20.720377",
     "exception": false,
     "start_time": "2025-10-16T12:36:20.603712",
     "status": "completed"
    },
    "tags": []
   },
   "outputs": [
    {
     "name": "stdout",
     "output_type": "stream",
     "text": [
      "<class 'pandas.core.frame.DataFrame'>\n",
      "Index: 406829 entries, 0 to 541908\n",
      "Data columns (total 8 columns):\n",
      " #   Column       Non-Null Count   Dtype         \n",
      "---  ------       --------------   -----         \n",
      " 0   InvoiceNo    406829 non-null  object        \n",
      " 1   StockCode    406829 non-null  object        \n",
      " 2   Description  406829 non-null  object        \n",
      " 3   Quantity     406829 non-null  int64         \n",
      " 4   InvoiceDate  406829 non-null  datetime64[ns]\n",
      " 5   UnitPrice    406829 non-null  float64       \n",
      " 6   CustomerID   406829 non-null  float64       \n",
      " 7   Country      406829 non-null  object        \n",
      "dtypes: datetime64[ns](1), float64(2), int64(1), object(4)\n",
      "memory usage: 27.9+ MB\n"
     ]
    }
   ],
   "source": [
    "df.info()"
   ]
  },
  {
   "cell_type": "markdown",
   "id": "555e9eba",
   "metadata": {
    "papermill": {
     "duration": 0.01328,
     "end_time": "2025-10-16T12:36:20.747270",
     "exception": false,
     "start_time": "2025-10-16T12:36:20.733990",
     "status": "completed"
    },
    "tags": []
   },
   "source": [
    "# Description of the data:"
   ]
  },
  {
   "cell_type": "code",
   "execution_count": 11,
   "id": "a632d95b",
   "metadata": {
    "execution": {
     "iopub.execute_input": "2025-10-16T12:36:20.775558Z",
     "iopub.status.busy": "2025-10-16T12:36:20.775212Z",
     "iopub.status.idle": "2025-10-16T12:36:20.857018Z",
     "shell.execute_reply": "2025-10-16T12:36:20.856112Z"
    },
    "papermill": {
     "duration": 0.097801,
     "end_time": "2025-10-16T12:36:20.858585",
     "exception": false,
     "start_time": "2025-10-16T12:36:20.760784",
     "status": "completed"
    },
    "tags": []
   },
   "outputs": [
    {
     "data": {
      "text/html": [
       "<div>\n",
       "<style scoped>\n",
       "    .dataframe tbody tr th:only-of-type {\n",
       "        vertical-align: middle;\n",
       "    }\n",
       "\n",
       "    .dataframe tbody tr th {\n",
       "        vertical-align: top;\n",
       "    }\n",
       "\n",
       "    .dataframe thead th {\n",
       "        text-align: right;\n",
       "    }\n",
       "</style>\n",
       "<table border=\"1\" class=\"dataframe\">\n",
       "  <thead>\n",
       "    <tr style=\"text-align: right;\">\n",
       "      <th></th>\n",
       "      <th>Quantity</th>\n",
       "      <th>InvoiceDate</th>\n",
       "      <th>UnitPrice</th>\n",
       "      <th>CustomerID</th>\n",
       "    </tr>\n",
       "  </thead>\n",
       "  <tbody>\n",
       "    <tr>\n",
       "      <th>count</th>\n",
       "      <td>406829.000000</td>\n",
       "      <td>406829</td>\n",
       "      <td>406829.000000</td>\n",
       "      <td>406829.000000</td>\n",
       "    </tr>\n",
       "    <tr>\n",
       "      <th>mean</th>\n",
       "      <td>12.061303</td>\n",
       "      <td>2011-07-10 16:30:57.879207168</td>\n",
       "      <td>3.460471</td>\n",
       "      <td>15287.690570</td>\n",
       "    </tr>\n",
       "    <tr>\n",
       "      <th>min</th>\n",
       "      <td>-80995.000000</td>\n",
       "      <td>2010-12-01 08:26:00</td>\n",
       "      <td>0.000000</td>\n",
       "      <td>12346.000000</td>\n",
       "    </tr>\n",
       "    <tr>\n",
       "      <th>25%</th>\n",
       "      <td>2.000000</td>\n",
       "      <td>2011-04-06 15:02:00</td>\n",
       "      <td>1.250000</td>\n",
       "      <td>13953.000000</td>\n",
       "    </tr>\n",
       "    <tr>\n",
       "      <th>50%</th>\n",
       "      <td>5.000000</td>\n",
       "      <td>2011-07-31 11:48:00</td>\n",
       "      <td>1.950000</td>\n",
       "      <td>15152.000000</td>\n",
       "    </tr>\n",
       "    <tr>\n",
       "      <th>75%</th>\n",
       "      <td>12.000000</td>\n",
       "      <td>2011-10-20 13:06:00</td>\n",
       "      <td>3.750000</td>\n",
       "      <td>16791.000000</td>\n",
       "    </tr>\n",
       "    <tr>\n",
       "      <th>max</th>\n",
       "      <td>80995.000000</td>\n",
       "      <td>2011-12-09 12:50:00</td>\n",
       "      <td>38970.000000</td>\n",
       "      <td>18287.000000</td>\n",
       "    </tr>\n",
       "    <tr>\n",
       "      <th>std</th>\n",
       "      <td>248.693370</td>\n",
       "      <td>NaN</td>\n",
       "      <td>69.315162</td>\n",
       "      <td>1713.600303</td>\n",
       "    </tr>\n",
       "  </tbody>\n",
       "</table>\n",
       "</div>"
      ],
      "text/plain": [
       "            Quantity                    InvoiceDate      UnitPrice  \\\n",
       "count  406829.000000                         406829  406829.000000   \n",
       "mean       12.061303  2011-07-10 16:30:57.879207168       3.460471   \n",
       "min    -80995.000000            2010-12-01 08:26:00       0.000000   \n",
       "25%         2.000000            2011-04-06 15:02:00       1.250000   \n",
       "50%         5.000000            2011-07-31 11:48:00       1.950000   \n",
       "75%        12.000000            2011-10-20 13:06:00       3.750000   \n",
       "max     80995.000000            2011-12-09 12:50:00   38970.000000   \n",
       "std       248.693370                            NaN      69.315162   \n",
       "\n",
       "          CustomerID  \n",
       "count  406829.000000  \n",
       "mean    15287.690570  \n",
       "min     12346.000000  \n",
       "25%     13953.000000  \n",
       "50%     15152.000000  \n",
       "75%     16791.000000  \n",
       "max     18287.000000  \n",
       "std      1713.600303  "
      ]
     },
     "execution_count": 11,
     "metadata": {},
     "output_type": "execute_result"
    }
   ],
   "source": [
    "# checking statistical insights\n",
    "df.describe()\n"
   ]
  },
  {
   "cell_type": "markdown",
   "id": "06f217de",
   "metadata": {
    "papermill": {
     "duration": 0.014396,
     "end_time": "2025-10-16T12:36:20.887443",
     "exception": false,
     "start_time": "2025-10-16T12:36:20.873047",
     "status": "completed"
    },
    "tags": []
   },
   "source": [
    "# Dropping duplicates:"
   ]
  },
  {
   "cell_type": "code",
   "execution_count": 12,
   "id": "703cd0fc",
   "metadata": {
    "execution": {
     "iopub.execute_input": "2025-10-16T12:36:20.917363Z",
     "iopub.status.busy": "2025-10-16T12:36:20.917032Z",
     "iopub.status.idle": "2025-10-16T12:36:21.211673Z",
     "shell.execute_reply": "2025-10-16T12:36:21.210581Z"
    },
    "papermill": {
     "duration": 0.311921,
     "end_time": "2025-10-16T12:36:21.213540",
     "exception": false,
     "start_time": "2025-10-16T12:36:20.901619",
     "status": "completed"
    },
    "tags": []
   },
   "outputs": [],
   "source": [
    "# drop duplicates:\n",
    "df = df.drop_duplicates()\n",
    "\n",
    "\n",
    "# Removing  negative values from quantity column\n",
    "df = df[df['Quantity']>0]"
   ]
  },
  {
   "cell_type": "markdown",
   "id": "f2beab44",
   "metadata": {
    "papermill": {
     "duration": 0.014655,
     "end_time": "2025-10-16T12:36:21.244122",
     "exception": false,
     "start_time": "2025-10-16T12:36:21.229467",
     "status": "completed"
    },
    "tags": []
   },
   "source": [
    "# Boxplot:"
   ]
  },
  {
   "cell_type": "code",
   "execution_count": 13,
   "id": "cccbadd0",
   "metadata": {
    "execution": {
     "iopub.execute_input": "2025-10-16T12:36:21.274843Z",
     "iopub.status.busy": "2025-10-16T12:36:21.274499Z",
     "iopub.status.idle": "2025-10-16T12:36:22.794808Z",
     "shell.execute_reply": "2025-10-16T12:36:22.793816Z"
    },
    "papermill": {
     "duration": 1.53815,
     "end_time": "2025-10-16T12:36:22.796388",
     "exception": false,
     "start_time": "2025-10-16T12:36:21.258238",
     "status": "completed"
    },
    "tags": []
   },
   "outputs": [
    {
     "data": {
      "image/png": "[encoded data removed]",
      "text/plain": [
       "<Figure size 1500x500 with 1 Axes>"
      ]
     },
     "metadata": {},
     "output_type": "display_data"
    }
   ],
   "source": [
    "# checking outliers\n",
    "df.boxplot(figsize=(15,5))\n",
    "plt.show()"
   ]
  },
  {
   "cell_type": "markdown",
   "id": "d8d036b7",
   "metadata": {
    "papermill": {
     "duration": 0.014051,
     "end_time": "2025-10-16T12:36:22.824894",
     "exception": false,
     "start_time": "2025-10-16T12:36:22.810843",
     "status": "completed"
    },
    "tags": []
   },
   "source": [
    "# Removing Outliers:"
   ]
  },
  {
   "cell_type": "code",
   "execution_count": 14,
   "id": "bf02a866",
   "metadata": {
    "execution": {
     "iopub.execute_input": "2025-10-16T12:36:22.854439Z",
     "iopub.status.busy": "2025-10-16T12:36:22.854135Z",
     "iopub.status.idle": "2025-10-16T12:36:22.898673Z",
     "shell.execute_reply": "2025-10-16T12:36:22.897630Z"
    },
    "papermill": {
     "duration": 0.061461,
     "end_time": "2025-10-16T12:36:22.900484",
     "exception": false,
     "start_time": "2025-10-16T12:36:22.839023",
     "status": "completed"
    },
    "tags": []
   },
   "outputs": [],
   "source": [
    "Q1 = df.Quantity.quantile(0.25)\n",
    "Q3 = df.Quantity.quantile(0.75)\n",
    "IQR = Q3-Q1\n",
    "df = df[(df.Quantity >= Q1-1.5*IQR) & (df.Quantity<=Q3+1.5*IQR)]"
   ]
  },
  {
   "cell_type": "code",
   "execution_count": 15,
   "id": "81ec55bc",
   "metadata": {
    "execution": {
     "iopub.execute_input": "2025-10-16T12:36:22.930656Z",
     "iopub.status.busy": "2025-10-16T12:36:22.930380Z",
     "iopub.status.idle": "2025-10-16T12:36:22.971631Z",
     "shell.execute_reply": "2025-10-16T12:36:22.970719Z"
    },
    "papermill": {
     "duration": 0.058335,
     "end_time": "2025-10-16T12:36:22.973348",
     "exception": false,
     "start_time": "2025-10-16T12:36:22.915013",
     "status": "completed"
    },
    "tags": []
   },
   "outputs": [],
   "source": [
    "Q1 = df.UnitPrice.quantile(0.25)\n",
    "Q3 = df.UnitPrice.quantile(0.75)\n",
    "IQR = Q3-Q1\n",
    "df = df[(df.UnitPrice >= Q1-1.5*IQR) & (df.UnitPrice<=Q3+1.5*IQR)]"
   ]
  },
  {
   "cell_type": "code",
   "execution_count": 16,
   "id": "c5c1be29",
   "metadata": {
    "execution": {
     "iopub.execute_input": "2025-10-16T12:36:23.003271Z",
     "iopub.status.busy": "2025-10-16T12:36:23.002702Z",
     "iopub.status.idle": "2025-10-16T12:36:24.039458Z",
     "shell.execute_reply": "2025-10-16T12:36:24.038404Z"
    },
    "papermill": {
     "duration": 1.053636,
     "end_time": "2025-10-16T12:36:24.041298",
     "exception": false,
     "start_time": "2025-10-16T12:36:22.987662",
     "status": "completed"
    },
    "tags": []
   },
   "outputs": [
    {
     "data": {
      "image/png": "[encoded data removed]",
      "text/plain": [
       "<Figure size 1500x500 with 1 Axes>"
      ]
     },
     "metadata": {},
     "output_type": "display_data"
    }
   ],
   "source": [
    "df.boxplot(figsize=(15,5))\n",
    "plt.show()"
   ]
  },
  {
   "cell_type": "markdown",
   "id": "13d9748b",
   "metadata": {
    "papermill": {
     "duration": 0.014423,
     "end_time": "2025-10-16T12:36:24.070528",
     "exception": false,
     "start_time": "2025-10-16T12:36:24.056105",
     "status": "completed"
    },
    "tags": []
   },
   "source": [
    "# Creating Revenue feature "
   ]
  },
  {
   "cell_type": "code",
   "execution_count": 17,
   "id": "65a4164a",
   "metadata": {
    "execution": {
     "iopub.execute_input": "2025-10-16T12:36:24.102919Z",
     "iopub.status.busy": "2025-10-16T12:36:24.102544Z",
     "iopub.status.idle": "2025-10-16T12:36:24.126849Z",
     "shell.execute_reply": "2025-10-16T12:36:24.125782Z"
    },
    "papermill": {
     "duration": 0.041477,
     "end_time": "2025-10-16T12:36:24.128366",
     "exception": false,
     "start_time": "2025-10-16T12:36:24.086889",
     "status": "completed"
    },
    "tags": []
   },
   "outputs": [
    {
     "data": {
      "text/html": [
       "<div>\n",
       "<style scoped>\n",
       "    .dataframe tbody tr th:only-of-type {\n",
       "        vertical-align: middle;\n",
       "    }\n",
       "\n",
       "    .dataframe tbody tr th {\n",
       "        vertical-align: top;\n",
       "    }\n",
       "\n",
       "    .dataframe thead th {\n",
       "        text-align: right;\n",
       "    }\n",
       "</style>\n",
       "<table border=\"1\" class=\"dataframe\">\n",
       "  <thead>\n",
       "    <tr style=\"text-align: right;\">\n",
       "      <th></th>\n",
       "      <th>InvoiceNo</th>\n",
       "      <th>StockCode</th>\n",
       "      <th>Description</th>\n",
       "      <th>Quantity</th>\n",
       "      <th>InvoiceDate</th>\n",
       "      <th>UnitPrice</th>\n",
       "      <th>CustomerID</th>\n",
       "      <th>Country</th>\n",
       "      <th>Revenue</th>\n",
       "    </tr>\n",
       "  </thead>\n",
       "  <tbody>\n",
       "    <tr>\n",
       "      <th>0</th>\n",
       "      <td>536365</td>\n",
       "      <td>85123A</td>\n",
       "      <td>WHITE HANGING HEART T-LIGHT HOLDER</td>\n",
       "      <td>6</td>\n",
       "      <td>2010-12-01 08:26:00</td>\n",
       "      <td>2.55</td>\n",
       "      <td>17850.0</td>\n",
       "      <td>United Kingdom</td>\n",
       "      <td>15.30</td>\n",
       "    </tr>\n",
       "    <tr>\n",
       "      <th>1</th>\n",
       "      <td>536365</td>\n",
       "      <td>71053</td>\n",
       "      <td>WHITE METAL LANTERN</td>\n",
       "      <td>6</td>\n",
       "      <td>2010-12-01 08:26:00</td>\n",
       "      <td>3.39</td>\n",
       "      <td>17850.0</td>\n",
       "      <td>United Kingdom</td>\n",
       "      <td>20.34</td>\n",
       "    </tr>\n",
       "    <tr>\n",
       "      <th>2</th>\n",
       "      <td>536365</td>\n",
       "      <td>84406B</td>\n",
       "      <td>CREAM CUPID HEARTS COAT HANGER</td>\n",
       "      <td>8</td>\n",
       "      <td>2010-12-01 08:26:00</td>\n",
       "      <td>2.75</td>\n",
       "      <td>17850.0</td>\n",
       "      <td>United Kingdom</td>\n",
       "      <td>22.00</td>\n",
       "    </tr>\n",
       "    <tr>\n",
       "      <th>3</th>\n",
       "      <td>536365</td>\n",
       "      <td>84029G</td>\n",
       "      <td>KNITTED UNION FLAG HOT WATER BOTTLE</td>\n",
       "      <td>6</td>\n",
       "      <td>2010-12-01 08:26:00</td>\n",
       "      <td>3.39</td>\n",
       "      <td>17850.0</td>\n",
       "      <td>United Kingdom</td>\n",
       "      <td>20.34</td>\n",
       "    </tr>\n",
       "    <tr>\n",
       "      <th>4</th>\n",
       "      <td>536365</td>\n",
       "      <td>84029E</td>\n",
       "      <td>RED WOOLLY HOTTIE WHITE HEART.</td>\n",
       "      <td>6</td>\n",
       "      <td>2010-12-01 08:26:00</td>\n",
       "      <td>3.39</td>\n",
       "      <td>17850.0</td>\n",
       "      <td>United Kingdom</td>\n",
       "      <td>20.34</td>\n",
       "    </tr>\n",
       "  </tbody>\n",
       "</table>\n",
       "</div>"
      ],
      "text/plain": [
       "  InvoiceNo StockCode                          Description  Quantity  \\\n",
       "0    536365    85123A   WHITE HANGING HEART T-LIGHT HOLDER         6   \n",
       "1    536365     71053                  WHITE METAL LANTERN         6   \n",
       "2    536365    84406B       CREAM CUPID HEARTS COAT HANGER         8   \n",
       "3    536365    84029G  KNITTED UNION FLAG HOT WATER BOTTLE         6   \n",
       "4    536365    84029E       RED WOOLLY HOTTIE WHITE HEART.         6   \n",
       "\n",
       "          InvoiceDate  UnitPrice  CustomerID         Country  Revenue  \n",
       "0 2010-12-01 08:26:00       2.55     17850.0  United Kingdom    15.30  \n",
       "1 2010-12-01 08:26:00       3.39     17850.0  United Kingdom    20.34  \n",
       "2 2010-12-01 08:26:00       2.75     17850.0  United Kingdom    22.00  \n",
       "3 2010-12-01 08:26:00       3.39     17850.0  United Kingdom    20.34  \n",
       "4 2010-12-01 08:26:00       3.39     17850.0  United Kingdom    20.34  "
      ]
     },
     "execution_count": 17,
     "metadata": {},
     "output_type": "execute_result"
    }
   ],
   "source": [
    "# adding revenue column to the dataset \n",
    "df['Revenue'] = df['Quantity'] * df['UnitPrice']\n",
    "df.head()"
   ]
  },
  {
   "cell_type": "markdown",
   "id": "b786b2aa",
   "metadata": {
    "papermill": {
     "duration": 0.014538,
     "end_time": "2025-10-16T12:36:24.158500",
     "exception": false,
     "start_time": "2025-10-16T12:36:24.143962",
     "status": "completed"
    },
    "tags": []
   },
   "source": [
    "# Top Countries:"
   ]
  },
  {
   "cell_type": "code",
   "execution_count": 18,
   "id": "aa279f5f",
   "metadata": {
    "execution": {
     "iopub.execute_input": "2025-10-16T12:36:24.190019Z",
     "iopub.status.busy": "2025-10-16T12:36:24.189661Z",
     "iopub.status.idle": "2025-10-16T12:36:24.222790Z",
     "shell.execute_reply": "2025-10-16T12:36:24.221822Z"
    },
    "papermill": {
     "duration": 0.050629,
     "end_time": "2025-10-16T12:36:24.224445",
     "exception": false,
     "start_time": "2025-10-16T12:36:24.173816",
     "status": "completed"
    },
    "tags": []
   },
   "outputs": [
    {
     "data": {
      "text/plain": [
       "Country\n",
       "United Kingdom    300303\n",
       "Germany             7450\n",
       "France              6891\n",
       "EIRE                5444\n",
       "Spain               2041\n",
       "Belgium             1660\n",
       "Switzerland         1434\n",
       "Portugal            1252\n",
       "Norway               773\n",
       "Netherlands          617\n",
       "Name: count, dtype: int64"
      ]
     },
     "execution_count": 18,
     "metadata": {},
     "output_type": "execute_result"
    }
   ],
   "source": [
    "#getting top country: which country has more sales\n",
    "Top_Country = df['Country'].value_counts().head(10)\n",
    "Top_Country"
   ]
  },
  {
   "cell_type": "markdown",
   "id": "cc57fcbf",
   "metadata": {
    "papermill": {
     "duration": 0.014701,
     "end_time": "2025-10-16T12:36:24.254937",
     "exception": false,
     "start_time": "2025-10-16T12:36:24.240236",
     "status": "completed"
    },
    "tags": []
   },
   "source": [
    "# Top Countries Visualization:"
   ]
  },
  {
   "cell_type": "code",
   "execution_count": 19,
   "id": "3f54898d",
   "metadata": {
    "execution": {
     "iopub.execute_input": "2025-10-16T12:36:24.287455Z",
     "iopub.status.busy": "2025-10-16T12:36:24.286617Z",
     "iopub.status.idle": "2025-10-16T12:36:24.495193Z",
     "shell.execute_reply": "2025-10-16T12:36:24.493485Z"
    },
    "papermill": {
     "duration": 0.226946,
     "end_time": "2025-10-16T12:36:24.497224",
     "exception": false,
     "start_time": "2025-10-16T12:36:24.270278",
     "status": "completed"
    },
    "tags": []
   },
   "outputs": [
    {
     "data": {
      "image/png": "[encoded data removed]",
      "text/plain": [
       "<Figure size 1500x500 with 1 Axes>"
      ]
     },
     "metadata": {},
     "output_type": "display_data"
    }
   ],
   "source": [
    "import matplotlib.pyplot as plt\n",
    "plt.figure(figsize=(15,5))\n",
    "sns.barplot(x=Top_Country.index,y=Top_Country.values)\n",
    "plt.xlabel('Top_Country names')\n",
    "plt.ylabel('count')\n",
    "plt.xticks(rotation='vertical')\n",
    "plt.show()\n"
   ]
  },
  {
   "cell_type": "markdown",
   "id": "5e35ef30",
   "metadata": {
    "papermill": {
     "duration": 0.015269,
     "end_time": "2025-10-16T12:36:24.528778",
     "exception": false,
     "start_time": "2025-10-16T12:36:24.513509",
     "status": "completed"
    },
    "tags": []
   },
   "source": [
    "# Top Selling Products:"
   ]
  },
  {
   "cell_type": "code",
   "execution_count": 20,
   "id": "a275dbcd",
   "metadata": {
    "execution": {
     "iopub.execute_input": "2025-10-16T12:36:24.561798Z",
     "iopub.status.busy": "2025-10-16T12:36:24.561454Z",
     "iopub.status.idle": "2025-10-16T12:36:24.602464Z",
     "shell.execute_reply": "2025-10-16T12:36:24.601511Z"
    },
    "papermill": {
     "duration": 0.059413,
     "end_time": "2025-10-16T12:36:24.604192",
     "exception": false,
     "start_time": "2025-10-16T12:36:24.544779",
     "status": "completed"
    },
    "tags": []
   },
   "outputs": [
    {
     "data": {
      "text/plain": [
       "Description\n",
       "WHITE HANGING HEART T-LIGHT HOLDER    1668\n",
       "JUMBO BAG RED RETROSPOT               1327\n",
       "PARTY BUNTING                         1268\n",
       "LUNCH BAG RED RETROSPOT               1195\n",
       "ASSORTED COLOUR BIRD ORNAMENT         1146\n",
       "SET OF 3 CAKE TINS PANTRY DESIGN      1113\n",
       "LUNCH BAG  BLACK SKULL.               1021\n",
       "SPOTTY BUNTING                         973\n",
       "LUNCH BAG SPACEBOY DESIGN              956\n",
       "PACK OF 72 RETROSPOT CAKE CASES        945\n",
       "NATURAL SLATE HEART CHALKBOARD         936\n",
       "LUNCH BAG CARS BLUE                    926\n",
       "REX CASH+CARRY JUMBO SHOPPER           896\n",
       "LUNCH BAG PINK POLKADOT                895\n",
       "HEART OF WICKER SMALL                  886\n",
       "LUNCH BAG SUKI DESIGN                  867\n",
       "PAPER CHAIN KIT 50'S CHRISTMAS         866\n",
       "ALARM CLOCK BAKELIKE RED               860\n",
       "BAKING SET 9 PIECE RETROSPOT           829\n",
       "JAM MAKING SET WITH JARS               824\n",
       "Name: count, dtype: int64"
      ]
     },
     "execution_count": 20,
     "metadata": {},
     "output_type": "execute_result"
    }
   ],
   "source": [
    "# finding top selling products\n",
    "Top_products = df['Description'].value_counts().head(20)\n",
    "Top_products"
   ]
  },
  {
   "cell_type": "markdown",
   "id": "55503812",
   "metadata": {
    "papermill": {
     "duration": 0.017698,
     "end_time": "2025-10-16T12:36:24.638477",
     "exception": false,
     "start_time": "2025-10-16T12:36:24.620779",
     "status": "completed"
    },
    "tags": []
   },
   "source": [
    "# Top Selling Products Visualization:"
   ]
  },
  {
   "cell_type": "code",
   "execution_count": 21,
   "id": "83b9cda9",
   "metadata": {
    "execution": {
     "iopub.execute_input": "2025-10-16T12:36:24.672949Z",
     "iopub.status.busy": "2025-10-16T12:36:24.672588Z",
     "iopub.status.idle": "2025-10-16T12:36:25.057403Z",
     "shell.execute_reply": "2025-10-16T12:36:25.056349Z"
    },
    "papermill": {
     "duration": 0.404816,
     "end_time": "2025-10-16T12:36:25.059553",
     "exception": false,
     "start_time": "2025-10-16T12:36:24.654737",
     "status": "completed"
    },
    "tags": []
   },
   "outputs": [
    {
     "data": {
      "image/png": "[encoded data removed]",
      "text/plain": [
       "<Figure size 1500x500 with 1 Axes>"
      ]
     },
     "metadata": {},
     "output_type": "display_data"
    }
   ],
   "source": [
    "import matplotlib.pyplot as plt\n",
    "plt.figure(figsize=(15,5))\n",
    "sns.barplot(x=Top_products.index,y=Top_products.values)\n",
    "plt.title('top selling products')\n",
    "plt.xlabel('Description')\n",
    "plt.ylabel('times purchased')\n",
    "plt.xticks(rotation='vertical')\n",
    "plt.show()"
   ]
  },
  {
   "cell_type": "markdown",
   "id": "275901d7",
   "metadata": {
    "papermill": {
     "duration": 0.017182,
     "end_time": "2025-10-16T12:36:25.095396",
     "exception": false,
     "start_time": "2025-10-16T12:36:25.078214",
     "status": "completed"
    },
    "tags": []
   },
   "source": [
    "# Extracting United Kingdom sales Data:"
   ]
  },
  {
   "cell_type": "markdown",
   "id": "a71bd557",
   "metadata": {
    "papermill": {
     "duration": 0.018274,
     "end_time": "2025-10-16T12:36:25.131587",
     "exception": false,
     "start_time": "2025-10-16T12:36:25.113313",
     "status": "completed"
    },
    "tags": []
   },
   "source": [
    "Extracting United Kingdom sales data from the dataset because sales are higher than other countries."
   ]
  },
  {
   "cell_type": "code",
   "execution_count": 22,
   "id": "97e1d8cd",
   "metadata": {
    "execution": {
     "iopub.execute_input": "2025-10-16T12:36:25.167645Z",
     "iopub.status.busy": "2025-10-16T12:36:25.167357Z",
     "iopub.status.idle": "2025-10-16T12:36:25.224286Z",
     "shell.execute_reply": "2025-10-16T12:36:25.223322Z"
    },
    "papermill": {
     "duration": 0.076823,
     "end_time": "2025-10-16T12:36:25.225797",
     "exception": false,
     "start_time": "2025-10-16T12:36:25.148974",
     "status": "completed"
    },
    "tags": []
   },
   "outputs": [
    {
     "data": {
      "text/html": [
       "<div>\n",
       "<style scoped>\n",
       "    .dataframe tbody tr th:only-of-type {\n",
       "        vertical-align: middle;\n",
       "    }\n",
       "\n",
       "    .dataframe tbody tr th {\n",
       "        vertical-align: top;\n",
       "    }\n",
       "\n",
       "    .dataframe thead th {\n",
       "        text-align: right;\n",
       "    }\n",
       "</style>\n",
       "<table border=\"1\" class=\"dataframe\">\n",
       "  <thead>\n",
       "    <tr style=\"text-align: right;\">\n",
       "      <th></th>\n",
       "      <th>InvoiceNo</th>\n",
       "      <th>StockCode</th>\n",
       "      <th>Description</th>\n",
       "      <th>Quantity</th>\n",
       "      <th>InvoiceDate</th>\n",
       "      <th>UnitPrice</th>\n",
       "      <th>CustomerID</th>\n",
       "      <th>Country</th>\n",
       "      <th>Revenue</th>\n",
       "    </tr>\n",
       "  </thead>\n",
       "  <tbody>\n",
       "    <tr>\n",
       "      <th>0</th>\n",
       "      <td>536365</td>\n",
       "      <td>85123A</td>\n",
       "      <td>WHITE HANGING HEART T-LIGHT HOLDER</td>\n",
       "      <td>6</td>\n",
       "      <td>2010-12-01 08:26:00</td>\n",
       "      <td>2.55</td>\n",
       "      <td>17850.0</td>\n",
       "      <td>United Kingdom</td>\n",
       "      <td>15.30</td>\n",
       "    </tr>\n",
       "    <tr>\n",
       "      <th>1</th>\n",
       "      <td>536365</td>\n",
       "      <td>71053</td>\n",
       "      <td>WHITE METAL LANTERN</td>\n",
       "      <td>6</td>\n",
       "      <td>2010-12-01 08:26:00</td>\n",
       "      <td>3.39</td>\n",
       "      <td>17850.0</td>\n",
       "      <td>United Kingdom</td>\n",
       "      <td>20.34</td>\n",
       "    </tr>\n",
       "    <tr>\n",
       "      <th>2</th>\n",
       "      <td>536365</td>\n",
       "      <td>84406B</td>\n",
       "      <td>CREAM CUPID HEARTS COAT HANGER</td>\n",
       "      <td>8</td>\n",
       "      <td>2010-12-01 08:26:00</td>\n",
       "      <td>2.75</td>\n",
       "      <td>17850.0</td>\n",
       "      <td>United Kingdom</td>\n",
       "      <td>22.00</td>\n",
       "    </tr>\n",
       "    <tr>\n",
       "      <th>3</th>\n",
       "      <td>536365</td>\n",
       "      <td>84029G</td>\n",
       "      <td>KNITTED UNION FLAG HOT WATER BOTTLE</td>\n",
       "      <td>6</td>\n",
       "      <td>2010-12-01 08:26:00</td>\n",
       "      <td>3.39</td>\n",
       "      <td>17850.0</td>\n",
       "      <td>United Kingdom</td>\n",
       "      <td>20.34</td>\n",
       "    </tr>\n",
       "    <tr>\n",
       "      <th>4</th>\n",
       "      <td>536365</td>\n",
       "      <td>84029E</td>\n",
       "      <td>RED WOOLLY HOTTIE WHITE HEART.</td>\n",
       "      <td>6</td>\n",
       "      <td>2010-12-01 08:26:00</td>\n",
       "      <td>3.39</td>\n",
       "      <td>17850.0</td>\n",
       "      <td>United Kingdom</td>\n",
       "      <td>20.34</td>\n",
       "    </tr>\n",
       "  </tbody>\n",
       "</table>\n",
       "</div>"
      ],
      "text/plain": [
       "  InvoiceNo StockCode                          Description  Quantity  \\\n",
       "0    536365    85123A   WHITE HANGING HEART T-LIGHT HOLDER         6   \n",
       "1    536365     71053                  WHITE METAL LANTERN         6   \n",
       "2    536365    84406B       CREAM CUPID HEARTS COAT HANGER         8   \n",
       "3    536365    84029G  KNITTED UNION FLAG HOT WATER BOTTLE         6   \n",
       "4    536365    84029E       RED WOOLLY HOTTIE WHITE HEART.         6   \n",
       "\n",
       "          InvoiceDate  UnitPrice  CustomerID         Country  Revenue  \n",
       "0 2010-12-01 08:26:00       2.55     17850.0  United Kingdom    15.30  \n",
       "1 2010-12-01 08:26:00       3.39     17850.0  United Kingdom    20.34  \n",
       "2 2010-12-01 08:26:00       2.75     17850.0  United Kingdom    22.00  \n",
       "3 2010-12-01 08:26:00       3.39     17850.0  United Kingdom    20.34  \n",
       "4 2010-12-01 08:26:00       3.39     17850.0  United Kingdom    20.34  "
      ]
     },
     "execution_count": 22,
     "metadata": {},
     "output_type": "execute_result"
    }
   ],
   "source": [
    "#df.set_index('InvoiceDate',inplace = True)\n",
    "data = df[df['Country']=='United Kingdom']\n",
    "data.head()"
   ]
  },
  {
   "cell_type": "markdown",
   "id": "34d53f60",
   "metadata": {
    "papermill": {
     "duration": 0.017117,
     "end_time": "2025-10-16T12:36:25.260567",
     "exception": false,
     "start_time": "2025-10-16T12:36:25.243450",
     "status": "completed"
    },
    "tags": []
   },
   "source": [
    "# Dropping Cancelled Transactions:"
   ]
  },
  {
   "cell_type": "code",
   "execution_count": 23,
   "id": "25836cdf",
   "metadata": {
    "execution": {
     "iopub.execute_input": "2025-10-16T12:36:25.297301Z",
     "iopub.status.busy": "2025-10-16T12:36:25.296987Z",
     "iopub.status.idle": "2025-10-16T12:36:25.435786Z",
     "shell.execute_reply": "2025-10-16T12:36:25.434801Z"
    },
    "papermill": {
     "duration": 0.159307,
     "end_time": "2025-10-16T12:36:25.437337",
     "exception": false,
     "start_time": "2025-10-16T12:36:25.278030",
     "status": "completed"
    },
    "tags": []
   },
   "outputs": [],
   "source": [
    "# there are cancelled transactions in InvoiceNo column contains 'C',lets Drop cancelled transactions:\n",
    "indx = data.InvoiceNo[data.InvoiceNo.str.contains('C') == True].index\n",
    "data.drop(index= indx, inplace= True)"
   ]
  },
  {
   "cell_type": "code",
   "execution_count": 24,
   "id": "8e906532",
   "metadata": {
    "execution": {
     "iopub.execute_input": "2025-10-16T12:36:25.473905Z",
     "iopub.status.busy": "2025-10-16T12:36:25.472979Z",
     "iopub.status.idle": "2025-10-16T12:36:25.478769Z",
     "shell.execute_reply": "2025-10-16T12:36:25.477842Z"
    },
    "papermill": {
     "duration": 0.025672,
     "end_time": "2025-10-16T12:36:25.480385",
     "exception": false,
     "start_time": "2025-10-16T12:36:25.454713",
     "status": "completed"
    },
    "tags": []
   },
   "outputs": [],
   "source": [
    "data.reset_index(inplace = True)\n"
   ]
  },
  {
   "cell_type": "code",
   "execution_count": 25,
   "id": "86be6894",
   "metadata": {
    "execution": {
     "iopub.execute_input": "2025-10-16T12:36:25.516428Z",
     "iopub.status.busy": "2025-10-16T12:36:25.516112Z",
     "iopub.status.idle": "2025-10-16T12:36:25.521734Z",
     "shell.execute_reply": "2025-10-16T12:36:25.520835Z"
    },
    "papermill": {
     "duration": 0.025384,
     "end_time": "2025-10-16T12:36:25.523099",
     "exception": false,
     "start_time": "2025-10-16T12:36:25.497715",
     "status": "completed"
    },
    "tags": []
   },
   "outputs": [
    {
     "data": {
      "text/plain": [
       "(300303, 10)"
      ]
     },
     "execution_count": 25,
     "metadata": {},
     "output_type": "execute_result"
    }
   ],
   "source": [
    "data.shape"
   ]
  },
  {
   "cell_type": "code",
   "execution_count": 26,
   "id": "c8d45fde",
   "metadata": {
    "execution": {
     "iopub.execute_input": "2025-10-16T12:36:25.559726Z",
     "iopub.status.busy": "2025-10-16T12:36:25.559069Z",
     "iopub.status.idle": "2025-10-16T12:36:25.605203Z",
     "shell.execute_reply": "2025-10-16T12:36:25.604327Z"
    },
    "papermill": {
     "duration": 0.066188,
     "end_time": "2025-10-16T12:36:25.606879",
     "exception": false,
     "start_time": "2025-10-16T12:36:25.540691",
     "status": "completed"
    },
    "tags": []
   },
   "outputs": [],
   "source": [
    "import datetime as dt\n",
    "\n",
    "data['Month'] = data['InvoiceDate'].dt.month\n",
    "data['Day'] = data['InvoiceDate'].dt.day\n",
    "data['Hour'] = data['InvoiceDate'].dt.hour\n",
    "data['year'] =data['InvoiceDate'].dt.year"
   ]
  },
  {
   "cell_type": "code",
   "execution_count": 27,
   "id": "9cf380df",
   "metadata": {
    "execution": {
     "iopub.execute_input": "2025-10-16T12:36:25.644979Z",
     "iopub.status.busy": "2025-10-16T12:36:25.644618Z",
     "iopub.status.idle": "2025-10-16T12:36:25.660122Z",
     "shell.execute_reply": "2025-10-16T12:36:25.658842Z"
    },
    "papermill": {
     "duration": 0.037103,
     "end_time": "2025-10-16T12:36:25.662148",
     "exception": false,
     "start_time": "2025-10-16T12:36:25.625045",
     "status": "completed"
    },
    "tags": []
   },
   "outputs": [
    {
     "data": {
      "text/html": [
       "<div>\n",
       "<style scoped>\n",
       "    .dataframe tbody tr th:only-of-type {\n",
       "        vertical-align: middle;\n",
       "    }\n",
       "\n",
       "    .dataframe tbody tr th {\n",
       "        vertical-align: top;\n",
       "    }\n",
       "\n",
       "    .dataframe thead th {\n",
       "        text-align: right;\n",
       "    }\n",
       "</style>\n",
       "<table border=\"1\" class=\"dataframe\">\n",
       "  <thead>\n",
       "    <tr style=\"text-align: right;\">\n",
       "      <th></th>\n",
       "      <th>index</th>\n",
       "      <th>InvoiceNo</th>\n",
       "      <th>StockCode</th>\n",
       "      <th>Description</th>\n",
       "      <th>Quantity</th>\n",
       "      <th>InvoiceDate</th>\n",
       "      <th>UnitPrice</th>\n",
       "      <th>CustomerID</th>\n",
       "      <th>Country</th>\n",
       "      <th>Revenue</th>\n",
       "      <th>Month</th>\n",
       "      <th>Day</th>\n",
       "      <th>Hour</th>\n",
       "      <th>year</th>\n",
       "    </tr>\n",
       "  </thead>\n",
       "  <tbody>\n",
       "    <tr>\n",
       "      <th>0</th>\n",
       "      <td>0</td>\n",
       "      <td>536365</td>\n",
       "      <td>85123A</td>\n",
       "      <td>WHITE HANGING HEART T-LIGHT HOLDER</td>\n",
       "      <td>6</td>\n",
       "      <td>2010-12-01 08:26:00</td>\n",
       "      <td>2.55</td>\n",
       "      <td>17850.0</td>\n",
       "      <td>United Kingdom</td>\n",
       "      <td>15.30</td>\n",
       "      <td>12</td>\n",
       "      <td>1</td>\n",
       "      <td>8</td>\n",
       "      <td>2010</td>\n",
       "    </tr>\n",
       "    <tr>\n",
       "      <th>1</th>\n",
       "      <td>1</td>\n",
       "      <td>536365</td>\n",
       "      <td>71053</td>\n",
       "      <td>WHITE METAL LANTERN</td>\n",
       "      <td>6</td>\n",
       "      <td>2010-12-01 08:26:00</td>\n",
       "      <td>3.39</td>\n",
       "      <td>17850.0</td>\n",
       "      <td>United Kingdom</td>\n",
       "      <td>20.34</td>\n",
       "      <td>12</td>\n",
       "      <td>1</td>\n",
       "      <td>8</td>\n",
       "      <td>2010</td>\n",
       "    </tr>\n",
       "    <tr>\n",
       "      <th>2</th>\n",
       "      <td>2</td>\n",
       "      <td>536365</td>\n",
       "      <td>84406B</td>\n",
       "      <td>CREAM CUPID HEARTS COAT HANGER</td>\n",
       "      <td>8</td>\n",
       "      <td>2010-12-01 08:26:00</td>\n",
       "      <td>2.75</td>\n",
       "      <td>17850.0</td>\n",
       "      <td>United Kingdom</td>\n",
       "      <td>22.00</td>\n",
       "      <td>12</td>\n",
       "      <td>1</td>\n",
       "      <td>8</td>\n",
       "      <td>2010</td>\n",
       "    </tr>\n",
       "    <tr>\n",
       "      <th>3</th>\n",
       "      <td>3</td>\n",
       "      <td>536365</td>\n",
       "      <td>84029G</td>\n",
       "      <td>KNITTED UNION FLAG HOT WATER BOTTLE</td>\n",
       "      <td>6</td>\n",
       "      <td>2010-12-01 08:26:00</td>\n",
       "      <td>3.39</td>\n",
       "      <td>17850.0</td>\n",
       "      <td>United Kingdom</td>\n",
       "      <td>20.34</td>\n",
       "      <td>12</td>\n",
       "      <td>1</td>\n",
       "      <td>8</td>\n",
       "      <td>2010</td>\n",
       "    </tr>\n",
       "    <tr>\n",
       "      <th>4</th>\n",
       "      <td>4</td>\n",
       "      <td>536365</td>\n",
       "      <td>84029E</td>\n",
       "      <td>RED WOOLLY HOTTIE WHITE HEART.</td>\n",
       "      <td>6</td>\n",
       "      <td>2010-12-01 08:26:00</td>\n",
       "      <td>3.39</td>\n",
       "      <td>17850.0</td>\n",
       "      <td>United Kingdom</td>\n",
       "      <td>20.34</td>\n",
       "      <td>12</td>\n",
       "      <td>1</td>\n",
       "      <td>8</td>\n",
       "      <td>2010</td>\n",
       "    </tr>\n",
       "  </tbody>\n",
       "</table>\n",
       "</div>"
      ],
      "text/plain": [
       "   index InvoiceNo StockCode                          Description  Quantity  \\\n",
       "0      0    536365    85123A   WHITE HANGING HEART T-LIGHT HOLDER         6   \n",
       "1      1    536365     71053                  WHITE METAL LANTERN         6   \n",
       "2      2    536365    84406B       CREAM CUPID HEARTS COAT HANGER         8   \n",
       "3      3    536365    84029G  KNITTED UNION FLAG HOT WATER BOTTLE         6   \n",
       "4      4    536365    84029E       RED WOOLLY HOTTIE WHITE HEART.         6   \n",
       "\n",
       "          InvoiceDate  UnitPrice  CustomerID         Country  Revenue  Month  \\\n",
       "0 2010-12-01 08:26:00       2.55     17850.0  United Kingdom    15.30     12   \n",
       "1 2010-12-01 08:26:00       3.39     17850.0  United Kingdom    20.34     12   \n",
       "2 2010-12-01 08:26:00       2.75     17850.0  United Kingdom    22.00     12   \n",
       "3 2010-12-01 08:26:00       3.39     17850.0  United Kingdom    20.34     12   \n",
       "4 2010-12-01 08:26:00       3.39     17850.0  United Kingdom    20.34     12   \n",
       "\n",
       "   Day  Hour  year  \n",
       "0    1     8  2010  \n",
       "1    1     8  2010  \n",
       "2    1     8  2010  \n",
       "3    1     8  2010  \n",
       "4    1     8  2010  "
      ]
     },
     "execution_count": 27,
     "metadata": {},
     "output_type": "execute_result"
    }
   ],
   "source": [
    "data.head()"
   ]
  },
  {
   "cell_type": "markdown",
   "id": "c0cb64b8",
   "metadata": {
    "papermill": {
     "duration": 0.018121,
     "end_time": "2025-10-16T12:36:25.700234",
     "exception": false,
     "start_time": "2025-10-16T12:36:25.682113",
     "status": "completed"
    },
    "tags": []
   },
   "source": [
    "# Extracting Features:"
   ]
  },
  {
   "cell_type": "code",
   "execution_count": 28,
   "id": "4d9ef0b4",
   "metadata": {
    "execution": {
     "iopub.execute_input": "2025-10-16T12:36:25.737117Z",
     "iopub.status.busy": "2025-10-16T12:36:25.736784Z",
     "iopub.status.idle": "2025-10-16T12:36:25.764706Z",
     "shell.execute_reply": "2025-10-16T12:36:25.763816Z"
    },
    "papermill": {
     "duration": 0.048399,
     "end_time": "2025-10-16T12:36:25.766364",
     "exception": false,
     "start_time": "2025-10-16T12:36:25.717965",
     "status": "completed"
    },
    "tags": []
   },
   "outputs": [
    {
     "data": {
      "text/html": [
       "<div>\n",
       "<style scoped>\n",
       "    .dataframe tbody tr th:only-of-type {\n",
       "        vertical-align: middle;\n",
       "    }\n",
       "\n",
       "    .dataframe tbody tr th {\n",
       "        vertical-align: top;\n",
       "    }\n",
       "\n",
       "    .dataframe thead th {\n",
       "        text-align: right;\n",
       "    }\n",
       "</style>\n",
       "<table border=\"1\" class=\"dataframe\">\n",
       "  <thead>\n",
       "    <tr style=\"text-align: right;\">\n",
       "      <th></th>\n",
       "      <th>CustomerID</th>\n",
       "      <th>Description</th>\n",
       "      <th>Quantity</th>\n",
       "      <th>UnitPrice</th>\n",
       "      <th>Month</th>\n",
       "      <th>Day</th>\n",
       "    </tr>\n",
       "  </thead>\n",
       "  <tbody>\n",
       "    <tr>\n",
       "      <th>0</th>\n",
       "      <td>17850.0</td>\n",
       "      <td>WHITE HANGING HEART T-LIGHT HOLDER</td>\n",
       "      <td>6</td>\n",
       "      <td>2.55</td>\n",
       "      <td>12</td>\n",
       "      <td>1</td>\n",
       "    </tr>\n",
       "    <tr>\n",
       "      <th>1</th>\n",
       "      <td>17850.0</td>\n",
       "      <td>WHITE METAL LANTERN</td>\n",
       "      <td>6</td>\n",
       "      <td>3.39</td>\n",
       "      <td>12</td>\n",
       "      <td>1</td>\n",
       "    </tr>\n",
       "    <tr>\n",
       "      <th>2</th>\n",
       "      <td>17850.0</td>\n",
       "      <td>CREAM CUPID HEARTS COAT HANGER</td>\n",
       "      <td>8</td>\n",
       "      <td>2.75</td>\n",
       "      <td>12</td>\n",
       "      <td>1</td>\n",
       "    </tr>\n",
       "    <tr>\n",
       "      <th>3</th>\n",
       "      <td>17850.0</td>\n",
       "      <td>KNITTED UNION FLAG HOT WATER BOTTLE</td>\n",
       "      <td>6</td>\n",
       "      <td>3.39</td>\n",
       "      <td>12</td>\n",
       "      <td>1</td>\n",
       "    </tr>\n",
       "    <tr>\n",
       "      <th>4</th>\n",
       "      <td>17850.0</td>\n",
       "      <td>RED WOOLLY HOTTIE WHITE HEART.</td>\n",
       "      <td>6</td>\n",
       "      <td>3.39</td>\n",
       "      <td>12</td>\n",
       "      <td>1</td>\n",
       "    </tr>\n",
       "    <tr>\n",
       "      <th>...</th>\n",
       "      <td>...</td>\n",
       "      <td>...</td>\n",
       "      <td>...</td>\n",
       "      <td>...</td>\n",
       "      <td>...</td>\n",
       "      <td>...</td>\n",
       "    </tr>\n",
       "    <tr>\n",
       "      <th>300298</th>\n",
       "      <td>15804.0</td>\n",
       "      <td>ZINC T-LIGHT HOLDER STAR LARGE</td>\n",
       "      <td>12</td>\n",
       "      <td>0.95</td>\n",
       "      <td>12</td>\n",
       "      <td>9</td>\n",
       "    </tr>\n",
       "    <tr>\n",
       "      <th>300299</th>\n",
       "      <td>15804.0</td>\n",
       "      <td>FAIRY TALE COTTAGE NIGHT LIGHT</td>\n",
       "      <td>12</td>\n",
       "      <td>1.95</td>\n",
       "      <td>12</td>\n",
       "      <td>9</td>\n",
       "    </tr>\n",
       "    <tr>\n",
       "      <th>300300</th>\n",
       "      <td>13113.0</td>\n",
       "      <td>LARGE CAKE STAND  HANGING STRAWBERY</td>\n",
       "      <td>8</td>\n",
       "      <td>2.95</td>\n",
       "      <td>12</td>\n",
       "      <td>9</td>\n",
       "    </tr>\n",
       "    <tr>\n",
       "      <th>300301</th>\n",
       "      <td>13113.0</td>\n",
       "      <td>SET OF 3 HANGING OWLS OLLIE BEAK</td>\n",
       "      <td>24</td>\n",
       "      <td>1.25</td>\n",
       "      <td>12</td>\n",
       "      <td>9</td>\n",
       "    </tr>\n",
       "    <tr>\n",
       "      <th>300302</th>\n",
       "      <td>13113.0</td>\n",
       "      <td>DOORMAT RED RETROSPOT</td>\n",
       "      <td>10</td>\n",
       "      <td>7.08</td>\n",
       "      <td>12</td>\n",
       "      <td>9</td>\n",
       "    </tr>\n",
       "  </tbody>\n",
       "</table>\n",
       "<p>300303 rows × 6 columns</p>\n",
       "</div>"
      ],
      "text/plain": [
       "        CustomerID                          Description  Quantity  UnitPrice  \\\n",
       "0          17850.0   WHITE HANGING HEART T-LIGHT HOLDER         6       2.55   \n",
       "1          17850.0                  WHITE METAL LANTERN         6       3.39   \n",
       "2          17850.0       CREAM CUPID HEARTS COAT HANGER         8       2.75   \n",
       "3          17850.0  KNITTED UNION FLAG HOT WATER BOTTLE         6       3.39   \n",
       "4          17850.0       RED WOOLLY HOTTIE WHITE HEART.         6       3.39   \n",
       "...            ...                                  ...       ...        ...   \n",
       "300298     15804.0       ZINC T-LIGHT HOLDER STAR LARGE        12       0.95   \n",
       "300299     15804.0       FAIRY TALE COTTAGE NIGHT LIGHT        12       1.95   \n",
       "300300     13113.0  LARGE CAKE STAND  HANGING STRAWBERY         8       2.95   \n",
       "300301     13113.0     SET OF 3 HANGING OWLS OLLIE BEAK        24       1.25   \n",
       "300302     13113.0                DOORMAT RED RETROSPOT        10       7.08   \n",
       "\n",
       "        Month  Day  \n",
       "0          12    1  \n",
       "1          12    1  \n",
       "2          12    1  \n",
       "3          12    1  \n",
       "4          12    1  \n",
       "...       ...  ...  \n",
       "300298     12    9  \n",
       "300299     12    9  \n",
       "300300     12    9  \n",
       "300301     12    9  \n",
       "300302     12    9  \n",
       "\n",
       "[300303 rows x 6 columns]"
      ]
     },
     "execution_count": 28,
     "metadata": {},
     "output_type": "execute_result"
    }
   ],
   "source": [
    "data = pd.DataFrame(data[['CustomerID','Description','Quantity','UnitPrice','Month','Day']])\n",
    "data"
   ]
  },
  {
   "cell_type": "markdown",
   "id": "938e072e",
   "metadata": {
    "papermill": {
     "duration": 0.017821,
     "end_time": "2025-10-16T12:36:25.802292",
     "exception": false,
     "start_time": "2025-10-16T12:36:25.784471",
     "status": "completed"
    },
    "tags": []
   },
   "source": [
    "# LabelEncoding:"
   ]
  },
  {
   "cell_type": "code",
   "execution_count": 29,
   "id": "b4b7a11c",
   "metadata": {
    "execution": {
     "iopub.execute_input": "2025-10-16T12:36:25.839359Z",
     "iopub.status.busy": "2025-10-16T12:36:25.839003Z",
     "iopub.status.idle": "2025-10-16T12:36:26.088791Z",
     "shell.execute_reply": "2025-10-16T12:36:26.087727Z"
    },
    "papermill": {
     "duration": 0.270121,
     "end_time": "2025-10-16T12:36:26.090530",
     "exception": false,
     "start_time": "2025-10-16T12:36:25.820409",
     "status": "completed"
    },
    "tags": []
   },
   "outputs": [],
   "source": [
    "from sklearn import preprocessing\n",
    "encoder = preprocessing.LabelEncoder()\n",
    "data['Description'] = encoder.fit_transform(data['Description'])"
   ]
  },
  {
   "cell_type": "code",
   "execution_count": 30,
   "id": "7c734dd9",
   "metadata": {
    "execution": {
     "iopub.execute_input": "2025-10-16T12:36:26.130408Z",
     "iopub.status.busy": "2025-10-16T12:36:26.129607Z",
     "iopub.status.idle": "2025-10-16T12:36:26.140782Z",
     "shell.execute_reply": "2025-10-16T12:36:26.139837Z"
    },
    "papermill": {
     "duration": 0.033808,
     "end_time": "2025-10-16T12:36:26.142380",
     "exception": false,
     "start_time": "2025-10-16T12:36:26.108572",
     "status": "completed"
    },
    "tags": []
   },
   "outputs": [
    {
     "data": {
      "text/html": [
       "<div>\n",
       "<style scoped>\n",
       "    .dataframe tbody tr th:only-of-type {\n",
       "        vertical-align: middle;\n",
       "    }\n",
       "\n",
       "    .dataframe tbody tr th {\n",
       "        vertical-align: top;\n",
       "    }\n",
       "\n",
       "    .dataframe thead th {\n",
       "        text-align: right;\n",
       "    }\n",
       "</style>\n",
       "<table border=\"1\" class=\"dataframe\">\n",
       "  <thead>\n",
       "    <tr style=\"text-align: right;\">\n",
       "      <th></th>\n",
       "      <th>CustomerID</th>\n",
       "      <th>Description</th>\n",
       "      <th>Quantity</th>\n",
       "      <th>UnitPrice</th>\n",
       "      <th>Month</th>\n",
       "      <th>Day</th>\n",
       "    </tr>\n",
       "  </thead>\n",
       "  <tbody>\n",
       "    <tr>\n",
       "      <th>0</th>\n",
       "      <td>17850.0</td>\n",
       "      <td>3386</td>\n",
       "      <td>6</td>\n",
       "      <td>2.55</td>\n",
       "      <td>12</td>\n",
       "      <td>1</td>\n",
       "    </tr>\n",
       "    <tr>\n",
       "      <th>1</th>\n",
       "      <td>17850.0</td>\n",
       "      <td>3394</td>\n",
       "      <td>6</td>\n",
       "      <td>3.39</td>\n",
       "      <td>12</td>\n",
       "      <td>1</td>\n",
       "    </tr>\n",
       "    <tr>\n",
       "      <th>2</th>\n",
       "      <td>17850.0</td>\n",
       "      <td>772</td>\n",
       "      <td>8</td>\n",
       "      <td>2.75</td>\n",
       "      <td>12</td>\n",
       "      <td>1</td>\n",
       "    </tr>\n",
       "    <tr>\n",
       "      <th>3</th>\n",
       "      <td>17850.0</td>\n",
       "      <td>1650</td>\n",
       "      <td>6</td>\n",
       "      <td>3.39</td>\n",
       "      <td>12</td>\n",
       "      <td>1</td>\n",
       "    </tr>\n",
       "    <tr>\n",
       "      <th>4</th>\n",
       "      <td>17850.0</td>\n",
       "      <td>2534</td>\n",
       "      <td>6</td>\n",
       "      <td>3.39</td>\n",
       "      <td>12</td>\n",
       "      <td>1</td>\n",
       "    </tr>\n",
       "  </tbody>\n",
       "</table>\n",
       "</div>"
      ],
      "text/plain": [
       "   CustomerID  Description  Quantity  UnitPrice  Month  Day\n",
       "0     17850.0         3386         6       2.55     12    1\n",
       "1     17850.0         3394         6       3.39     12    1\n",
       "2     17850.0          772         8       2.75     12    1\n",
       "3     17850.0         1650         6       3.39     12    1\n",
       "4     17850.0         2534         6       3.39     12    1"
      ]
     },
     "execution_count": 30,
     "metadata": {},
     "output_type": "execute_result"
    }
   ],
   "source": [
    "data.head()"
   ]
  },
  {
   "cell_type": "markdown",
   "id": "5853c604",
   "metadata": {
    "papermill": {
     "duration": 0.020713,
     "end_time": "2025-10-16T12:36:26.181247",
     "exception": false,
     "start_time": "2025-10-16T12:36:26.160534",
     "status": "completed"
    },
    "tags": []
   },
   "source": [
    "# Heatmap:"
   ]
  },
  {
   "cell_type": "code",
   "execution_count": 31,
   "id": "6e159708",
   "metadata": {
    "execution": {
     "iopub.execute_input": "2025-10-16T12:36:26.234822Z",
     "iopub.status.busy": "2025-10-16T12:36:26.234497Z",
     "iopub.status.idle": "2025-10-16T12:36:26.611163Z",
     "shell.execute_reply": "2025-10-16T12:36:26.610019Z"
    },
    "papermill": {
     "duration": 0.403769,
     "end_time": "2025-10-16T12:36:26.612976",
     "exception": false,
     "start_time": "2025-10-16T12:36:26.209207",
     "status": "completed"
    },
    "tags": []
   },
   "outputs": [
    {
     "data": {
      "image/png": "[encoded data removed]",
      "text/plain": [
       "<Figure size 1500x800 with 2 Axes>"
      ]
     },
     "metadata": {},
     "output_type": "display_data"
    }
   ],
   "source": [
    "# Correlation between features of dataset\n",
    "plt.figure(figsize=(15,8))\n",
    "corr = data.corr()\n",
    "sns.heatmap(corr,vmax=1.0,annot=True)\n",
    "plt.title('Correlation Matrix',fontsize=16)\n",
    "plt.show()"
   ]
  },
  {
   "cell_type": "markdown",
   "id": "7d46edaa",
   "metadata": {
    "papermill": {
     "duration": 0.021015,
     "end_time": "2025-10-16T12:36:26.656846",
     "exception": false,
     "start_time": "2025-10-16T12:36:26.635831",
     "status": "completed"
    },
    "tags": []
   },
   "source": [
    "# Data Scaling:"
   ]
  },
  {
   "cell_type": "markdown",
   "id": "551942fb",
   "metadata": {
    "papermill": {
     "duration": 0.018989,
     "end_time": "2025-10-16T12:36:26.695885",
     "exception": false,
     "start_time": "2025-10-16T12:36:26.676896",
     "status": "completed"
    },
    "tags": []
   },
   "source": [
    "StandardScaler removes the mean and scales each feature/variable to unit variance. This operation is performed feature-wise in an independent way. StandardScaler can be influenced by outliers (if they exist in the dataset) since it involves the estimation of the empirical mean and standard deviation of each feature."
   ]
  },
  {
   "cell_type": "code",
   "execution_count": 32,
   "id": "9e766e7b",
   "metadata": {
    "execution": {
     "iopub.execute_input": "2025-10-16T12:36:26.736595Z",
     "iopub.status.busy": "2025-10-16T12:36:26.735528Z",
     "iopub.status.idle": "2025-10-16T12:36:26.805352Z",
     "shell.execute_reply": "2025-10-16T12:36:26.804090Z"
    },
    "papermill": {
     "duration": 0.091668,
     "end_time": "2025-10-16T12:36:26.806984",
     "exception": false,
     "start_time": "2025-10-16T12:36:26.715316",
     "status": "completed"
    },
    "tags": []
   },
   "outputs": [
    {
     "data": {
      "text/plain": [
       "array([[ 1.43654718,  1.55624988, -0.17641212,  0.2325403 ,  1.26649333,\n",
       "        -1.61783842],\n",
       "       [ 1.43654718,  1.56432496, -0.17641212,  0.7754766 ,  1.26649333,\n",
       "        -1.61783842],\n",
       "       [ 1.43654718, -1.08228295,  0.12263412,  0.36181085,  1.26649333,\n",
       "        -1.61783842],\n",
       "       ...,\n",
       "       [-1.5351198 , -0.180902  ,  0.12263412,  0.4910814 ,  1.26649333,\n",
       "        -0.69670427],\n",
       "       [-1.5351198 ,  0.91730907,  2.51500408, -0.60771827,  1.26649333,\n",
       "        -0.69670427],\n",
       "       [-1.5351198 , -0.93390333,  0.42168037,  3.16051823,  1.26649333,\n",
       "        -0.69670427]])"
      ]
     },
     "execution_count": 32,
     "metadata": {},
     "output_type": "execute_result"
    }
   ],
   "source": [
    "import sklearn\n",
    "from sklearn.preprocessing import StandardScaler\n",
    "scaler = StandardScaler()\n",
    "data_scaled = scaler.fit_transform(data)\n",
    "data_scaled "
   ]
  },
  {
   "cell_type": "code",
   "execution_count": 33,
   "id": "0417d89b",
   "metadata": {
    "execution": {
     "iopub.execute_input": "2025-10-16T12:36:26.847323Z",
     "iopub.status.busy": "2025-10-16T12:36:26.847020Z",
     "iopub.status.idle": "2025-10-16T12:36:26.858689Z",
     "shell.execute_reply": "2025-10-16T12:36:26.857836Z"
    },
    "papermill": {
     "duration": 0.03364,
     "end_time": "2025-10-16T12:36:26.860157",
     "exception": false,
     "start_time": "2025-10-16T12:36:26.826517",
     "status": "completed"
    },
    "tags": []
   },
   "outputs": [
    {
     "data": {
      "text/html": [
       "<div>\n",
       "<style scoped>\n",
       "    .dataframe tbody tr th:only-of-type {\n",
       "        vertical-align: middle;\n",
       "    }\n",
       "\n",
       "    .dataframe tbody tr th {\n",
       "        vertical-align: top;\n",
       "    }\n",
       "\n",
       "    .dataframe thead th {\n",
       "        text-align: right;\n",
       "    }\n",
       "</style>\n",
       "<table border=\"1\" class=\"dataframe\">\n",
       "  <thead>\n",
       "    <tr style=\"text-align: right;\">\n",
       "      <th></th>\n",
       "      <th>CustomerID</th>\n",
       "      <th>Description</th>\n",
       "      <th>Quantity</th>\n",
       "      <th>UnitPrice</th>\n",
       "      <th>Month</th>\n",
       "      <th>Day</th>\n",
       "    </tr>\n",
       "  </thead>\n",
       "  <tbody>\n",
       "    <tr>\n",
       "      <th>0</th>\n",
       "      <td>1.436547</td>\n",
       "      <td>1.556250</td>\n",
       "      <td>-0.176412</td>\n",
       "      <td>0.232540</td>\n",
       "      <td>1.266493</td>\n",
       "      <td>-1.617838</td>\n",
       "    </tr>\n",
       "    <tr>\n",
       "      <th>1</th>\n",
       "      <td>1.436547</td>\n",
       "      <td>1.564325</td>\n",
       "      <td>-0.176412</td>\n",
       "      <td>0.775477</td>\n",
       "      <td>1.266493</td>\n",
       "      <td>-1.617838</td>\n",
       "    </tr>\n",
       "    <tr>\n",
       "      <th>2</th>\n",
       "      <td>1.436547</td>\n",
       "      <td>-1.082283</td>\n",
       "      <td>0.122634</td>\n",
       "      <td>0.361811</td>\n",
       "      <td>1.266493</td>\n",
       "      <td>-1.617838</td>\n",
       "    </tr>\n",
       "    <tr>\n",
       "      <th>3</th>\n",
       "      <td>1.436547</td>\n",
       "      <td>-0.196043</td>\n",
       "      <td>-0.176412</td>\n",
       "      <td>0.775477</td>\n",
       "      <td>1.266493</td>\n",
       "      <td>-1.617838</td>\n",
       "    </tr>\n",
       "    <tr>\n",
       "      <th>4</th>\n",
       "      <td>1.436547</td>\n",
       "      <td>0.696254</td>\n",
       "      <td>-0.176412</td>\n",
       "      <td>0.775477</td>\n",
       "      <td>1.266493</td>\n",
       "      <td>-1.617838</td>\n",
       "    </tr>\n",
       "  </tbody>\n",
       "</table>\n",
       "</div>"
      ],
      "text/plain": [
       "   CustomerID  Description  Quantity  UnitPrice     Month       Day\n",
       "0    1.436547     1.556250 -0.176412   0.232540  1.266493 -1.617838\n",
       "1    1.436547     1.564325 -0.176412   0.775477  1.266493 -1.617838\n",
       "2    1.436547    -1.082283  0.122634   0.361811  1.266493 -1.617838\n",
       "3    1.436547    -0.196043 -0.176412   0.775477  1.266493 -1.617838\n",
       "4    1.436547     0.696254 -0.176412   0.775477  1.266493 -1.617838"
      ]
     },
     "execution_count": 33,
     "metadata": {},
     "output_type": "execute_result"
    }
   ],
   "source": [
    "data_scaled = pd.DataFrame(data_scaled, columns = ['CustomerID','Description','Quantity','UnitPrice','Month','Day'])\n",
    "data_scaled.head()"
   ]
  },
  {
   "cell_type": "markdown",
   "id": "2e597f5c",
   "metadata": {
    "papermill": {
     "duration": 0.020129,
     "end_time": "2025-10-16T12:36:26.899814",
     "exception": false,
     "start_time": "2025-10-16T12:36:26.879685",
     "status": "completed"
    },
    "tags": []
   },
   "source": [
    "# Segment the customers based on their purchasing behavior with KMeans clustering:"
   ]
  },
  {
   "cell_type": "markdown",
   "id": "f94c58e9",
   "metadata": {
    "papermill": {
     "duration": 0.019201,
     "end_time": "2025-10-16T12:36:26.938483",
     "exception": false,
     "start_time": "2025-10-16T12:36:26.919282",
     "status": "completed"
    },
    "tags": []
   },
   "source": [
    "k-means clustering is a method of vector quantization, originally from signal processing, that aims to partition n observations into k clusters in which each observation belongs to the cluster with the nearest mean (cluster centers or cluster centroid), serving as a prototype of the cluster."
   ]
  },
  {
   "cell_type": "markdown",
   "id": "f6891006",
   "metadata": {
    "papermill": {
     "duration": 0.019448,
     "end_time": "2025-10-16T12:36:26.977350",
     "exception": false,
     "start_time": "2025-10-16T12:36:26.957902",
     "status": "completed"
    },
    "tags": []
   },
   "source": [
    "# Elbow Method:"
   ]
  },
  {
   "cell_type": "code",
   "execution_count": 34,
   "id": "fa9160c6",
   "metadata": {
    "execution": {
     "iopub.execute_input": "2025-10-16T12:36:27.017340Z",
     "iopub.status.busy": "2025-10-16T12:36:27.016986Z",
     "iopub.status.idle": "2025-10-16T12:36:40.908650Z",
     "shell.execute_reply": "2025-10-16T12:36:40.907729Z"
    },
    "papermill": {
     "duration": 13.913546,
     "end_time": "2025-10-16T12:36:40.910409",
     "exception": false,
     "start_time": "2025-10-16T12:36:26.996863",
     "status": "completed"
    },
    "tags": []
   },
   "outputs": [
    {
     "data": {
      "image/png": "[encoded data removed]",
      "text/plain": [
       "<Figure size 640x480 with 1 Axes>"
      ]
     },
     "metadata": {},
     "output_type": "display_data"
    }
   ],
   "source": [
    "from sklearn.cluster import KMeans\n",
    "clusters=list(range(2,8))\n",
    "ssd = []\n",
    "for num_clusters in clusters:\n",
    "    model_clus = KMeans(n_clusters = num_clusters, max_iter=60,random_state= 50)\n",
    "    model_clus.fit(data_scaled)\n",
    "    ssd.append(model_clus.inertia_)\n",
    "\n",
    "plt.plot(clusters,ssd);"
   ]
  },
  {
   "cell_type": "code",
   "execution_count": 35,
   "id": "eec32e8f",
   "metadata": {
    "execution": {
     "iopub.execute_input": "2025-10-16T12:36:40.952709Z",
     "iopub.status.busy": "2025-10-16T12:36:40.951650Z",
     "iopub.status.idle": "2025-10-16T12:36:42.902663Z",
     "shell.execute_reply": "2025-10-16T12:36:42.901522Z"
    },
    "papermill": {
     "duration": 1.974011,
     "end_time": "2025-10-16T12:36:42.904415",
     "exception": false,
     "start_time": "2025-10-16T12:36:40.930404",
     "status": "completed"
    },
    "tags": []
   },
   "outputs": [
    {
     "data": {
      "text/html": [
       "<style>#sk-container-id-1 {color: black;background-color: white;}#sk-container-id-1 pre{padding: 0;}#sk-container-id-1 div.sk-toggleable {background-color: white;}#sk-container-id-1 label.sk-toggleable__label {cursor: pointer;display: block;width: 100%;margin-bottom: 0;padding: 0.3em;box-sizing: border-box;text-align: center;}#sk-container-id-1 label.sk-toggleable__label-arrow:before {content: \"▸\";float: left;margin-right: 0.25em;color: #696969;}#sk-container-id-1 label.sk-toggleable__label-arrow:hover:before {color: black;}#sk-container-id-1 div.sk-estimator:hover label.sk-toggleable__label-arrow:before {color: black;}#sk-container-id-1 div.sk-toggleable__content {max-height: 0;max-width: 0;overflow: hidden;text-align: left;background-color: #f0f8ff;}#sk-container-id-1 div.sk-toggleable__content pre {margin: 0.2em;color: black;border-radius: 0.25em;background-color: #f0f8ff;}#sk-container-id-1 input.sk-toggleable__control:checked~div.sk-toggleable__content {max-height: 200px;max-width: 100%;overflow: auto;}#sk-container-id-1 input.sk-toggleable__control:checked~label.sk-toggleable__label-arrow:before {content: \"▾\";}#sk-container-id-1 div.sk-estimator input.sk-toggleable__control:checked~label.sk-toggleable__label {background-color: #d4ebff;}#sk-container-id-1 div.sk-label input.sk-toggleable__control:checked~label.sk-toggleable__label {background-color: #d4ebff;}#sk-container-id-1 input.sk-hidden--visually {border: 0;clip: rect(1px 1px 1px 1px);clip: rect(1px, 1px, 1px, 1px);height: 1px;margin: -1px;overflow: hidden;padding: 0;position: absolute;width: 1px;}#sk-container-id-1 div.sk-estimator {font-family: monospace;background-color: #f0f8ff;border: 1px dotted black;border-radius: 0.25em;box-sizing: border-box;margin-bottom: 0.5em;}#sk-container-id-1 div.sk-estimator:hover {background-color: #d4ebff;}#sk-container-id-1 div.sk-parallel-item::after {content: \"\";width: 100%;border-bottom: 1px solid gray;flex-grow: 1;}#sk-container-id-1 div.sk-label:hover label.sk-toggleable__label {background-color: #d4ebff;}#sk-container-id-1 div.sk-serial::before {content: \"\";position: absolute;border-left: 1px solid gray;box-sizing: border-box;top: 0;bottom: 0;left: 50%;z-index: 0;}#sk-container-id-1 div.sk-serial {display: flex;flex-direction: column;align-items: center;background-color: white;padding-right: 0.2em;padding-left: 0.2em;position: relative;}#sk-container-id-1 div.sk-item {position: relative;z-index: 1;}#sk-container-id-1 div.sk-parallel {display: flex;align-items: stretch;justify-content: center;background-color: white;position: relative;}#sk-container-id-1 div.sk-item::before, #sk-container-id-1 div.sk-parallel-item::before {content: \"\";position: absolute;border-left: 1px solid gray;box-sizing: border-box;top: 0;bottom: 0;left: 50%;z-index: -1;}#sk-container-id-1 div.sk-parallel-item {display: flex;flex-direction: column;z-index: 1;position: relative;background-color: white;}#sk-container-id-1 div.sk-parallel-item:first-child::after {align-self: flex-end;width: 50%;}#sk-container-id-1 div.sk-parallel-item:last-child::after {align-self: flex-start;width: 50%;}#sk-container-id-1 div.sk-parallel-item:only-child::after {width: 0;}#sk-container-id-1 div.sk-dashed-wrapped {border: 1px dashed gray;margin: 0 0.4em 0.5em 0.4em;box-sizing: border-box;padding-bottom: 0.4em;background-color: white;}#sk-container-id-1 div.sk-label label {font-family: monospace;font-weight: bold;display: inline-block;line-height: 1.2em;}#sk-container-id-1 div.sk-label-container {text-align: center;}#sk-container-id-1 div.sk-container {/* jupyter's `normalize.less` sets `[hidden] { display: none; }` but bootstrap.min.css set `[hidden] { display: none !important; }` so we also need the `!important` here to be able to override the default hidden behavior on the sphinx rendered scikit-learn.org. See: https://github.com/scikit-learn/scikit-learn/issues/21755 */display: inline-block !important;position: relative;}#sk-container-id-1 div.sk-text-repr-fallback {display: none;}</style><div id=\"sk-container-id-1\" class=\"sk-top-container\"><div class=\"sk-text-repr-fallback\"><pre>KMeans(max_iter=60, n_clusters=5, random_state=15)</pre><b>In a Jupyter environment, please rerun this cell to show the HTML representation or trust the notebook. <br />On GitHub, the HTML representation is unable to render, please try loading this page with nbviewer.org.</b></div><div class=\"sk-container\" hidden><div class=\"sk-item\"><div class=\"sk-estimator sk-toggleable\"><input class=\"sk-toggleable__control sk-hidden--visually\" id=\"sk-estimator-id-1\" type=\"checkbox\" checked><label for=\"sk-estimator-id-1\" class=\"sk-toggleable__label sk-toggleable__label-arrow\">KMeans</label><div class=\"sk-toggleable__content\"><pre>KMeans(max_iter=60, n_clusters=5, random_state=15)</pre></div></div></div></div></div>"
      ],
      "text/plain": [
       "KMeans(max_iter=60, n_clusters=5, random_state=15)"
      ]
     },
     "execution_count": 35,
     "metadata": {},
     "output_type": "execute_result"
    }
   ],
   "source": [
    "cluster = KMeans(n_clusters=5, max_iter=60, random_state= 15)\n",
    "cluster.fit(data_scaled)"
   ]
  },
  {
   "cell_type": "code",
   "execution_count": 36,
   "id": "73bc7f88",
   "metadata": {
    "execution": {
     "iopub.execute_input": "2025-10-16T12:36:42.947184Z",
     "iopub.status.busy": "2025-10-16T12:36:42.946746Z",
     "iopub.status.idle": "2025-10-16T12:36:42.967612Z",
     "shell.execute_reply": "2025-10-16T12:36:42.966788Z"
    },
    "papermill": {
     "duration": 0.043841,
     "end_time": "2025-10-16T12:36:42.969098",
     "exception": false,
     "start_time": "2025-10-16T12:36:42.925257",
     "status": "completed"
    },
    "tags": []
   },
   "outputs": [
    {
     "data": {
      "text/html": [
       "<div>\n",
       "<style scoped>\n",
       "    .dataframe tbody tr th:only-of-type {\n",
       "        vertical-align: middle;\n",
       "    }\n",
       "\n",
       "    .dataframe tbody tr th {\n",
       "        vertical-align: top;\n",
       "    }\n",
       "\n",
       "    .dataframe thead th {\n",
       "        text-align: right;\n",
       "    }\n",
       "</style>\n",
       "<table border=\"1\" class=\"dataframe\">\n",
       "  <thead>\n",
       "    <tr style=\"text-align: right;\">\n",
       "      <th></th>\n",
       "      <th>CustomerID</th>\n",
       "      <th>Description</th>\n",
       "      <th>Quantity</th>\n",
       "      <th>UnitPrice</th>\n",
       "      <th>Month</th>\n",
       "      <th>Day</th>\n",
       "      <th>Cluster_Id</th>\n",
       "    </tr>\n",
       "  </thead>\n",
       "  <tbody>\n",
       "    <tr>\n",
       "      <th>69903</th>\n",
       "      <td>1.443448</td>\n",
       "      <td>1.210031</td>\n",
       "      <td>0.720727</td>\n",
       "      <td>-1.144191</td>\n",
       "      <td>-1.372852</td>\n",
       "      <td>1.836415</td>\n",
       "      <td>0</td>\n",
       "    </tr>\n",
       "    <tr>\n",
       "      <th>69579</th>\n",
       "      <td>1.132292</td>\n",
       "      <td>1.200946</td>\n",
       "      <td>-0.924028</td>\n",
       "      <td>-0.607718</td>\n",
       "      <td>-1.372852</td>\n",
       "      <td>1.836415</td>\n",
       "      <td>0</td>\n",
       "    </tr>\n",
       "    <tr>\n",
       "      <th>69603</th>\n",
       "      <td>1.132292</td>\n",
       "      <td>1.450264</td>\n",
       "      <td>-0.176412</td>\n",
       "      <td>-0.607718</td>\n",
       "      <td>-1.372852</td>\n",
       "      <td>1.836415</td>\n",
       "      <td>0</td>\n",
       "    </tr>\n",
       "    <tr>\n",
       "      <th>69605</th>\n",
       "      <td>1.132292</td>\n",
       "      <td>1.478527</td>\n",
       "      <td>-0.624981</td>\n",
       "      <td>-0.866259</td>\n",
       "      <td>-1.372852</td>\n",
       "      <td>1.836415</td>\n",
       "      <td>0</td>\n",
       "    </tr>\n",
       "    <tr>\n",
       "      <th>69614</th>\n",
       "      <td>1.132292</td>\n",
       "      <td>1.374561</td>\n",
       "      <td>-0.924028</td>\n",
       "      <td>-0.349177</td>\n",
       "      <td>-1.372852</td>\n",
       "      <td>1.836415</td>\n",
       "      <td>0</td>\n",
       "    </tr>\n",
       "    <tr>\n",
       "      <th>69763</th>\n",
       "      <td>1.430901</td>\n",
       "      <td>0.743695</td>\n",
       "      <td>-0.924028</td>\n",
       "      <td>-0.866259</td>\n",
       "      <td>-1.372852</td>\n",
       "      <td>1.836415</td>\n",
       "      <td>0</td>\n",
       "    </tr>\n",
       "    <tr>\n",
       "      <th>69771</th>\n",
       "      <td>1.430901</td>\n",
       "      <td>1.359420</td>\n",
       "      <td>-0.924028</td>\n",
       "      <td>-1.144191</td>\n",
       "      <td>-1.372852</td>\n",
       "      <td>1.836415</td>\n",
       "      <td>0</td>\n",
       "    </tr>\n",
       "    <tr>\n",
       "      <th>69787</th>\n",
       "      <td>1.430901</td>\n",
       "      <td>1.621860</td>\n",
       "      <td>-0.924028</td>\n",
       "      <td>-0.866259</td>\n",
       "      <td>-1.372852</td>\n",
       "      <td>1.836415</td>\n",
       "      <td>0</td>\n",
       "    </tr>\n",
       "    <tr>\n",
       "      <th>69791</th>\n",
       "      <td>1.430901</td>\n",
       "      <td>1.268575</td>\n",
       "      <td>-0.325935</td>\n",
       "      <td>-0.349177</td>\n",
       "      <td>-1.372852</td>\n",
       "      <td>1.836415</td>\n",
       "      <td>0</td>\n",
       "    </tr>\n",
       "    <tr>\n",
       "      <th>69793</th>\n",
       "      <td>1.430901</td>\n",
       "      <td>1.251416</td>\n",
       "      <td>-0.924028</td>\n",
       "      <td>-0.607718</td>\n",
       "      <td>-1.372852</td>\n",
       "      <td>1.836415</td>\n",
       "      <td>0</td>\n",
       "    </tr>\n",
       "    <tr>\n",
       "      <th>69876</th>\n",
       "      <td>0.947856</td>\n",
       "      <td>1.621860</td>\n",
       "      <td>-0.475458</td>\n",
       "      <td>-0.866259</td>\n",
       "      <td>-1.372852</td>\n",
       "      <td>1.836415</td>\n",
       "      <td>0</td>\n",
       "    </tr>\n",
       "  </tbody>\n",
       "</table>\n",
       "</div>"
      ],
      "text/plain": [
       "       CustomerID  Description  Quantity  UnitPrice     Month       Day  \\\n",
       "69903    1.443448     1.210031  0.720727  -1.144191 -1.372852  1.836415   \n",
       "69579    1.132292     1.200946 -0.924028  -0.607718 -1.372852  1.836415   \n",
       "69603    1.132292     1.450264 -0.176412  -0.607718 -1.372852  1.836415   \n",
       "69605    1.132292     1.478527 -0.624981  -0.866259 -1.372852  1.836415   \n",
       "69614    1.132292     1.374561 -0.924028  -0.349177 -1.372852  1.836415   \n",
       "69763    1.430901     0.743695 -0.924028  -0.866259 -1.372852  1.836415   \n",
       "69771    1.430901     1.359420 -0.924028  -1.144191 -1.372852  1.836415   \n",
       "69787    1.430901     1.621860 -0.924028  -0.866259 -1.372852  1.836415   \n",
       "69791    1.430901     1.268575 -0.325935  -0.349177 -1.372852  1.836415   \n",
       "69793    1.430901     1.251416 -0.924028  -0.607718 -1.372852  1.836415   \n",
       "69876    0.947856     1.621860 -0.475458  -0.866259 -1.372852  1.836415   \n",
       "\n",
       "       Cluster_Id  \n",
       "69903           0  \n",
       "69579           0  \n",
       "69603           0  \n",
       "69605           0  \n",
       "69614           0  \n",
       "69763           0  \n",
       "69771           0  \n",
       "69787           0  \n",
       "69791           0  \n",
       "69793           0  \n",
       "69876           0  "
      ]
     },
     "execution_count": 36,
     "metadata": {},
     "output_type": "execute_result"
    }
   ],
   "source": [
    "data_scaled['Cluster_Id']=cluster.labels_\n",
    "data_scaled[data_scaled['Cluster_Id']==0].sort_values(by=['Month']).head(11)"
   ]
  },
  {
   "cell_type": "code",
   "execution_count": 37,
   "id": "0e82129f",
   "metadata": {
    "execution": {
     "iopub.execute_input": "2025-10-16T12:36:43.012391Z",
     "iopub.status.busy": "2025-10-16T12:36:43.012071Z",
     "iopub.status.idle": "2025-10-16T12:36:43.029467Z",
     "shell.execute_reply": "2025-10-16T12:36:43.028423Z"
    },
    "papermill": {
     "duration": 0.040863,
     "end_time": "2025-10-16T12:36:43.031007",
     "exception": false,
     "start_time": "2025-10-16T12:36:42.990144",
     "status": "completed"
    },
    "tags": []
   },
   "outputs": [
    {
     "data": {
      "text/html": [
       "<div>\n",
       "<style scoped>\n",
       "    .dataframe tbody tr th:only-of-type {\n",
       "        vertical-align: middle;\n",
       "    }\n",
       "\n",
       "    .dataframe tbody tr th {\n",
       "        vertical-align: top;\n",
       "    }\n",
       "\n",
       "    .dataframe thead th {\n",
       "        text-align: right;\n",
       "    }\n",
       "</style>\n",
       "<table border=\"1\" class=\"dataframe\">\n",
       "  <thead>\n",
       "    <tr style=\"text-align: right;\">\n",
       "      <th></th>\n",
       "      <th>CustomerID</th>\n",
       "      <th>Description</th>\n",
       "      <th>Quantity</th>\n",
       "      <th>UnitPrice</th>\n",
       "      <th>Month</th>\n",
       "      <th>Day</th>\n",
       "      <th>Cluster_Id</th>\n",
       "    </tr>\n",
       "  </thead>\n",
       "  <tbody>\n",
       "    <tr>\n",
       "      <th>25499</th>\n",
       "      <td>1.131664</td>\n",
       "      <td>1.005126</td>\n",
       "      <td>1.916912</td>\n",
       "      <td>-0.866259</td>\n",
       "      <td>-1.959373</td>\n",
       "      <td>-0.351279</td>\n",
       "      <td>1</td>\n",
       "    </tr>\n",
       "    <tr>\n",
       "      <th>21316</th>\n",
       "      <td>-0.164402</td>\n",
       "      <td>0.683132</td>\n",
       "      <td>2.664527</td>\n",
       "      <td>-1.144191</td>\n",
       "      <td>-1.959373</td>\n",
       "      <td>-1.157271</td>\n",
       "      <td>1</td>\n",
       "    </tr>\n",
       "    <tr>\n",
       "      <th>21317</th>\n",
       "      <td>-0.164402</td>\n",
       "      <td>1.214068</td>\n",
       "      <td>2.664527</td>\n",
       "      <td>-1.144191</td>\n",
       "      <td>-1.959373</td>\n",
       "      <td>-1.157271</td>\n",
       "      <td>1</td>\n",
       "    </tr>\n",
       "    <tr>\n",
       "      <th>21318</th>\n",
       "      <td>-0.164402</td>\n",
       "      <td>1.302894</td>\n",
       "      <td>2.664527</td>\n",
       "      <td>-1.144191</td>\n",
       "      <td>-1.959373</td>\n",
       "      <td>-1.157271</td>\n",
       "      <td>1</td>\n",
       "    </tr>\n",
       "    <tr>\n",
       "      <th>21335</th>\n",
       "      <td>1.672424</td>\n",
       "      <td>-0.344422</td>\n",
       "      <td>2.515004</td>\n",
       "      <td>-0.866259</td>\n",
       "      <td>-1.959373</td>\n",
       "      <td>-1.042130</td>\n",
       "      <td>1</td>\n",
       "    </tr>\n",
       "    <tr>\n",
       "      <th>21336</th>\n",
       "      <td>1.672424</td>\n",
       "      <td>-0.004260</td>\n",
       "      <td>1.916912</td>\n",
       "      <td>-1.144191</td>\n",
       "      <td>-1.959373</td>\n",
       "      <td>-1.042130</td>\n",
       "      <td>1</td>\n",
       "    </tr>\n",
       "    <tr>\n",
       "      <th>21337</th>\n",
       "      <td>1.672424</td>\n",
       "      <td>-0.011325</td>\n",
       "      <td>1.916912</td>\n",
       "      <td>-1.144191</td>\n",
       "      <td>-1.959373</td>\n",
       "      <td>-1.042130</td>\n",
       "      <td>1</td>\n",
       "    </tr>\n",
       "    <tr>\n",
       "      <th>21354</th>\n",
       "      <td>-1.545157</td>\n",
       "      <td>-1.383080</td>\n",
       "      <td>2.664527</td>\n",
       "      <td>-1.144191</td>\n",
       "      <td>-1.959373</td>\n",
       "      <td>-1.042130</td>\n",
       "      <td>1</td>\n",
       "    </tr>\n",
       "    <tr>\n",
       "      <th>21357</th>\n",
       "      <td>-1.545157</td>\n",
       "      <td>-0.853153</td>\n",
       "      <td>2.515004</td>\n",
       "      <td>-1.144191</td>\n",
       "      <td>-1.959373</td>\n",
       "      <td>-1.042130</td>\n",
       "      <td>1</td>\n",
       "    </tr>\n",
       "    <tr>\n",
       "      <th>21315</th>\n",
       "      <td>-0.164402</td>\n",
       "      <td>1.659207</td>\n",
       "      <td>2.664527</td>\n",
       "      <td>-1.144191</td>\n",
       "      <td>-1.959373</td>\n",
       "      <td>-1.157271</td>\n",
       "      <td>1</td>\n",
       "    </tr>\n",
       "    <tr>\n",
       "      <th>21358</th>\n",
       "      <td>-1.545157</td>\n",
       "      <td>1.454302</td>\n",
       "      <td>2.515004</td>\n",
       "      <td>-1.144191</td>\n",
       "      <td>-1.959373</td>\n",
       "      <td>-1.042130</td>\n",
       "      <td>1</td>\n",
       "    </tr>\n",
       "  </tbody>\n",
       "</table>\n",
       "</div>"
      ],
      "text/plain": [
       "       CustomerID  Description  Quantity  UnitPrice     Month       Day  \\\n",
       "25499    1.131664     1.005126  1.916912  -0.866259 -1.959373 -0.351279   \n",
       "21316   -0.164402     0.683132  2.664527  -1.144191 -1.959373 -1.157271   \n",
       "21317   -0.164402     1.214068  2.664527  -1.144191 -1.959373 -1.157271   \n",
       "21318   -0.164402     1.302894  2.664527  -1.144191 -1.959373 -1.157271   \n",
       "21335    1.672424    -0.344422  2.515004  -0.866259 -1.959373 -1.042130   \n",
       "21336    1.672424    -0.004260  1.916912  -1.144191 -1.959373 -1.042130   \n",
       "21337    1.672424    -0.011325  1.916912  -1.144191 -1.959373 -1.042130   \n",
       "21354   -1.545157    -1.383080  2.664527  -1.144191 -1.959373 -1.042130   \n",
       "21357   -1.545157    -0.853153  2.515004  -1.144191 -1.959373 -1.042130   \n",
       "21315   -0.164402     1.659207  2.664527  -1.144191 -1.959373 -1.157271   \n",
       "21358   -1.545157     1.454302  2.515004  -1.144191 -1.959373 -1.042130   \n",
       "\n",
       "       Cluster_Id  \n",
       "25499           1  \n",
       "21316           1  \n",
       "21317           1  \n",
       "21318           1  \n",
       "21335           1  \n",
       "21336           1  \n",
       "21337           1  \n",
       "21354           1  \n",
       "21357           1  \n",
       "21315           1  \n",
       "21358           1  "
      ]
     },
     "execution_count": 37,
     "metadata": {},
     "output_type": "execute_result"
    }
   ],
   "source": [
    "data_scaled[data_scaled['Cluster_Id']==1].sort_values(by=['Month']).head(11)"
   ]
  },
  {
   "cell_type": "code",
   "execution_count": 38,
   "id": "574b62ee",
   "metadata": {
    "execution": {
     "iopub.execute_input": "2025-10-16T12:36:43.079556Z",
     "iopub.status.busy": "2025-10-16T12:36:43.078781Z",
     "iopub.status.idle": "2025-10-16T12:36:43.098780Z",
     "shell.execute_reply": "2025-10-16T12:36:43.097691Z"
    },
    "papermill": {
     "duration": 0.047108,
     "end_time": "2025-10-16T12:36:43.100347",
     "exception": false,
     "start_time": "2025-10-16T12:36:43.053239",
     "status": "completed"
    },
    "tags": []
   },
   "outputs": [
    {
     "data": {
      "text/html": [
       "<div>\n",
       "<style scoped>\n",
       "    .dataframe tbody tr th:only-of-type {\n",
       "        vertical-align: middle;\n",
       "    }\n",
       "\n",
       "    .dataframe tbody tr th {\n",
       "        vertical-align: top;\n",
       "    }\n",
       "\n",
       "    .dataframe thead th {\n",
       "        text-align: right;\n",
       "    }\n",
       "</style>\n",
       "<table border=\"1\" class=\"dataframe\">\n",
       "  <thead>\n",
       "    <tr style=\"text-align: right;\">\n",
       "      <th></th>\n",
       "      <th>CustomerID</th>\n",
       "      <th>Description</th>\n",
       "      <th>Quantity</th>\n",
       "      <th>UnitPrice</th>\n",
       "      <th>Month</th>\n",
       "      <th>Day</th>\n",
       "      <th>Cluster_Id</th>\n",
       "    </tr>\n",
       "  </thead>\n",
       "  <tbody>\n",
       "    <tr>\n",
       "      <th>88828</th>\n",
       "      <td>1.604672</td>\n",
       "      <td>-0.217240</td>\n",
       "      <td>-0.924028</td>\n",
       "      <td>-0.995530</td>\n",
       "      <td>-0.786331</td>\n",
       "      <td>-1.272413</td>\n",
       "      <td>2</td>\n",
       "    </tr>\n",
       "    <tr>\n",
       "      <th>88087</th>\n",
       "      <td>1.430901</td>\n",
       "      <td>1.057614</td>\n",
       "      <td>-0.325935</td>\n",
       "      <td>-0.058318</td>\n",
       "      <td>-0.786331</td>\n",
       "      <td>-1.387555</td>\n",
       "      <td>2</td>\n",
       "    </tr>\n",
       "    <tr>\n",
       "      <th>88090</th>\n",
       "      <td>1.430901</td>\n",
       "      <td>-0.224306</td>\n",
       "      <td>-0.924028</td>\n",
       "      <td>-0.071245</td>\n",
       "      <td>-0.786331</td>\n",
       "      <td>-1.387555</td>\n",
       "      <td>2</td>\n",
       "    </tr>\n",
       "    <tr>\n",
       "      <th>88091</th>\n",
       "      <td>1.430901</td>\n",
       "      <td>-0.079963</td>\n",
       "      <td>-0.924028</td>\n",
       "      <td>-0.349177</td>\n",
       "      <td>-0.786331</td>\n",
       "      <td>-1.387555</td>\n",
       "      <td>2</td>\n",
       "    </tr>\n",
       "    <tr>\n",
       "      <th>88093</th>\n",
       "      <td>1.430901</td>\n",
       "      <td>1.334185</td>\n",
       "      <td>-0.774505</td>\n",
       "      <td>-0.058318</td>\n",
       "      <td>-0.786331</td>\n",
       "      <td>-1.387555</td>\n",
       "      <td>2</td>\n",
       "    </tr>\n",
       "    <tr>\n",
       "      <th>88094</th>\n",
       "      <td>1.430901</td>\n",
       "      <td>1.333176</td>\n",
       "      <td>-0.774505</td>\n",
       "      <td>-0.058318</td>\n",
       "      <td>-0.786331</td>\n",
       "      <td>-1.387555</td>\n",
       "      <td>2</td>\n",
       "    </tr>\n",
       "    <tr>\n",
       "      <th>88095</th>\n",
       "      <td>1.430901</td>\n",
       "      <td>-0.233390</td>\n",
       "      <td>-0.624981</td>\n",
       "      <td>-0.071245</td>\n",
       "      <td>-0.786331</td>\n",
       "      <td>-1.387555</td>\n",
       "      <td>2</td>\n",
       "    </tr>\n",
       "    <tr>\n",
       "      <th>88097</th>\n",
       "      <td>1.430901</td>\n",
       "      <td>0.697263</td>\n",
       "      <td>-0.176412</td>\n",
       "      <td>-0.607718</td>\n",
       "      <td>-0.786331</td>\n",
       "      <td>-1.387555</td>\n",
       "      <td>2</td>\n",
       "    </tr>\n",
       "    <tr>\n",
       "      <th>88098</th>\n",
       "      <td>1.430901</td>\n",
       "      <td>1.170665</td>\n",
       "      <td>-0.924028</td>\n",
       "      <td>-0.866259</td>\n",
       "      <td>-0.786331</td>\n",
       "      <td>-1.387555</td>\n",
       "      <td>2</td>\n",
       "    </tr>\n",
       "    <tr>\n",
       "      <th>88099</th>\n",
       "      <td>1.430901</td>\n",
       "      <td>1.171674</td>\n",
       "      <td>-0.924028</td>\n",
       "      <td>-0.866259</td>\n",
       "      <td>-0.786331</td>\n",
       "      <td>-1.387555</td>\n",
       "      <td>2</td>\n",
       "    </tr>\n",
       "    <tr>\n",
       "      <th>88101</th>\n",
       "      <td>1.430901</td>\n",
       "      <td>0.604400</td>\n",
       "      <td>-0.924028</td>\n",
       "      <td>0.491081</td>\n",
       "      <td>-0.786331</td>\n",
       "      <td>-1.387555</td>\n",
       "      <td>2</td>\n",
       "    </tr>\n",
       "  </tbody>\n",
       "</table>\n",
       "</div>"
      ],
      "text/plain": [
       "       CustomerID  Description  Quantity  UnitPrice     Month       Day  \\\n",
       "88828    1.604672    -0.217240 -0.924028  -0.995530 -0.786331 -1.272413   \n",
       "88087    1.430901     1.057614 -0.325935  -0.058318 -0.786331 -1.387555   \n",
       "88090    1.430901    -0.224306 -0.924028  -0.071245 -0.786331 -1.387555   \n",
       "88091    1.430901    -0.079963 -0.924028  -0.349177 -0.786331 -1.387555   \n",
       "88093    1.430901     1.334185 -0.774505  -0.058318 -0.786331 -1.387555   \n",
       "88094    1.430901     1.333176 -0.774505  -0.058318 -0.786331 -1.387555   \n",
       "88095    1.430901    -0.233390 -0.624981  -0.071245 -0.786331 -1.387555   \n",
       "88097    1.430901     0.697263 -0.176412  -0.607718 -0.786331 -1.387555   \n",
       "88098    1.430901     1.170665 -0.924028  -0.866259 -0.786331 -1.387555   \n",
       "88099    1.430901     1.171674 -0.924028  -0.866259 -0.786331 -1.387555   \n",
       "88101    1.430901     0.604400 -0.924028   0.491081 -0.786331 -1.387555   \n",
       "\n",
       "       Cluster_Id  \n",
       "88828           2  \n",
       "88087           2  \n",
       "88090           2  \n",
       "88091           2  \n",
       "88093           2  \n",
       "88094           2  \n",
       "88095           2  \n",
       "88097           2  \n",
       "88098           2  \n",
       "88099           2  \n",
       "88101           2  "
      ]
     },
     "execution_count": 38,
     "metadata": {},
     "output_type": "execute_result"
    }
   ],
   "source": [
    "data_scaled[data_scaled['Cluster_Id']==2].sort_values(by=['Month']).head(11)"
   ]
  },
  {
   "cell_type": "code",
   "execution_count": 39,
   "id": "ff9dcafc",
   "metadata": {
    "execution": {
     "iopub.execute_input": "2025-10-16T12:36:43.144696Z",
     "iopub.status.busy": "2025-10-16T12:36:43.144389Z",
     "iopub.status.idle": "2025-10-16T12:36:43.164999Z",
     "shell.execute_reply": "2025-10-16T12:36:43.164026Z"
    },
    "papermill": {
     "duration": 0.044166,
     "end_time": "2025-10-16T12:36:43.166565",
     "exception": false,
     "start_time": "2025-10-16T12:36:43.122399",
     "status": "completed"
    },
    "tags": []
   },
   "outputs": [
    {
     "data": {
      "text/html": [
       "<div>\n",
       "<style scoped>\n",
       "    .dataframe tbody tr th:only-of-type {\n",
       "        vertical-align: middle;\n",
       "    }\n",
       "\n",
       "    .dataframe tbody tr th {\n",
       "        vertical-align: top;\n",
       "    }\n",
       "\n",
       "    .dataframe thead th {\n",
       "        text-align: right;\n",
       "    }\n",
       "</style>\n",
       "<table border=\"1\" class=\"dataframe\">\n",
       "  <thead>\n",
       "    <tr style=\"text-align: right;\">\n",
       "      <th></th>\n",
       "      <th>CustomerID</th>\n",
       "      <th>Description</th>\n",
       "      <th>Quantity</th>\n",
       "      <th>UnitPrice</th>\n",
       "      <th>Month</th>\n",
       "      <th>Day</th>\n",
       "      <th>Cluster_Id</th>\n",
       "    </tr>\n",
       "  </thead>\n",
       "  <tbody>\n",
       "    <tr>\n",
       "      <th>19988</th>\n",
       "      <td>-1.409654</td>\n",
       "      <td>-0.238437</td>\n",
       "      <td>0.421680</td>\n",
       "      <td>-0.155271</td>\n",
       "      <td>-1.959373</td>\n",
       "      <td>-1.272413</td>\n",
       "      <td>3</td>\n",
       "    </tr>\n",
       "    <tr>\n",
       "      <th>30153</th>\n",
       "      <td>1.286615</td>\n",
       "      <td>-1.310404</td>\n",
       "      <td>0.720727</td>\n",
       "      <td>-1.144191</td>\n",
       "      <td>-1.959373</td>\n",
       "      <td>0.915280</td>\n",
       "      <td>3</td>\n",
       "    </tr>\n",
       "    <tr>\n",
       "      <th>30156</th>\n",
       "      <td>1.286615</td>\n",
       "      <td>-1.682867</td>\n",
       "      <td>-0.924028</td>\n",
       "      <td>0.491081</td>\n",
       "      <td>-1.959373</td>\n",
       "      <td>0.915280</td>\n",
       "      <td>3</td>\n",
       "    </tr>\n",
       "    <tr>\n",
       "      <th>30157</th>\n",
       "      <td>1.286615</td>\n",
       "      <td>1.450264</td>\n",
       "      <td>-0.774505</td>\n",
       "      <td>-0.607718</td>\n",
       "      <td>-1.959373</td>\n",
       "      <td>0.915280</td>\n",
       "      <td>3</td>\n",
       "    </tr>\n",
       "    <tr>\n",
       "      <th>30158</th>\n",
       "      <td>1.286615</td>\n",
       "      <td>0.765901</td>\n",
       "      <td>0.720727</td>\n",
       "      <td>-1.144191</td>\n",
       "      <td>-1.959373</td>\n",
       "      <td>0.915280</td>\n",
       "      <td>3</td>\n",
       "    </tr>\n",
       "    <tr>\n",
       "      <th>30159</th>\n",
       "      <td>1.286615</td>\n",
       "      <td>1.303904</td>\n",
       "      <td>0.720727</td>\n",
       "      <td>-1.144191</td>\n",
       "      <td>-1.959373</td>\n",
       "      <td>0.915280</td>\n",
       "      <td>3</td>\n",
       "    </tr>\n",
       "    <tr>\n",
       "      <th>30160</th>\n",
       "      <td>1.286615</td>\n",
       "      <td>-1.682867</td>\n",
       "      <td>-0.774505</td>\n",
       "      <td>0.491081</td>\n",
       "      <td>-1.959373</td>\n",
       "      <td>0.915280</td>\n",
       "      <td>3</td>\n",
       "    </tr>\n",
       "    <tr>\n",
       "      <th>30162</th>\n",
       "      <td>1.286615</td>\n",
       "      <td>0.676066</td>\n",
       "      <td>-0.924028</td>\n",
       "      <td>0.232540</td>\n",
       "      <td>-1.959373</td>\n",
       "      <td>0.915280</td>\n",
       "      <td>3</td>\n",
       "    </tr>\n",
       "    <tr>\n",
       "      <th>30163</th>\n",
       "      <td>1.286615</td>\n",
       "      <td>-1.481999</td>\n",
       "      <td>-0.176412</td>\n",
       "      <td>-1.144191</td>\n",
       "      <td>-1.959373</td>\n",
       "      <td>0.915280</td>\n",
       "      <td>3</td>\n",
       "    </tr>\n",
       "    <tr>\n",
       "      <th>30164</th>\n",
       "      <td>-1.461722</td>\n",
       "      <td>1.155524</td>\n",
       "      <td>-0.924028</td>\n",
       "      <td>-0.866259</td>\n",
       "      <td>-1.959373</td>\n",
       "      <td>0.915280</td>\n",
       "      <td>3</td>\n",
       "    </tr>\n",
       "    <tr>\n",
       "      <th>30165</th>\n",
       "      <td>-1.461722</td>\n",
       "      <td>-1.846388</td>\n",
       "      <td>-0.624981</td>\n",
       "      <td>-0.995530</td>\n",
       "      <td>-1.959373</td>\n",
       "      <td>0.915280</td>\n",
       "      <td>3</td>\n",
       "    </tr>\n",
       "  </tbody>\n",
       "</table>\n",
       "</div>"
      ],
      "text/plain": [
       "       CustomerID  Description  Quantity  UnitPrice     Month       Day  \\\n",
       "19988   -1.409654    -0.238437  0.421680  -0.155271 -1.959373 -1.272413   \n",
       "30153    1.286615    -1.310404  0.720727  -1.144191 -1.959373  0.915280   \n",
       "30156    1.286615    -1.682867 -0.924028   0.491081 -1.959373  0.915280   \n",
       "30157    1.286615     1.450264 -0.774505  -0.607718 -1.959373  0.915280   \n",
       "30158    1.286615     0.765901  0.720727  -1.144191 -1.959373  0.915280   \n",
       "30159    1.286615     1.303904  0.720727  -1.144191 -1.959373  0.915280   \n",
       "30160    1.286615    -1.682867 -0.774505   0.491081 -1.959373  0.915280   \n",
       "30162    1.286615     0.676066 -0.924028   0.232540 -1.959373  0.915280   \n",
       "30163    1.286615    -1.481999 -0.176412  -1.144191 -1.959373  0.915280   \n",
       "30164   -1.461722     1.155524 -0.924028  -0.866259 -1.959373  0.915280   \n",
       "30165   -1.461722    -1.846388 -0.624981  -0.995530 -1.959373  0.915280   \n",
       "\n",
       "       Cluster_Id  \n",
       "19988           3  \n",
       "30153           3  \n",
       "30156           3  \n",
       "30157           3  \n",
       "30158           3  \n",
       "30159           3  \n",
       "30160           3  \n",
       "30162           3  \n",
       "30163           3  \n",
       "30164           3  \n",
       "30165           3  "
      ]
     },
     "execution_count": 39,
     "metadata": {},
     "output_type": "execute_result"
    }
   ],
   "source": [
    "data_scaled[data_scaled['Cluster_Id']==3].sort_values(by=['Month']).head(11)"
   ]
  },
  {
   "cell_type": "code",
   "execution_count": 40,
   "id": "6a2fdf75",
   "metadata": {
    "execution": {
     "iopub.execute_input": "2025-10-16T12:36:43.226022Z",
     "iopub.status.busy": "2025-10-16T12:36:43.225337Z",
     "iopub.status.idle": "2025-10-16T12:36:43.247075Z",
     "shell.execute_reply": "2025-10-16T12:36:43.245198Z"
    },
    "papermill": {
     "duration": 0.053179,
     "end_time": "2025-10-16T12:36:43.249370",
     "exception": false,
     "start_time": "2025-10-16T12:36:43.196191",
     "status": "completed"
    },
    "tags": []
   },
   "outputs": [
    {
     "data": {
      "text/html": [
       "<div>\n",
       "<style scoped>\n",
       "    .dataframe tbody tr th:only-of-type {\n",
       "        vertical-align: middle;\n",
       "    }\n",
       "\n",
       "    .dataframe tbody tr th {\n",
       "        vertical-align: top;\n",
       "    }\n",
       "\n",
       "    .dataframe thead th {\n",
       "        text-align: right;\n",
       "    }\n",
       "</style>\n",
       "<table border=\"1\" class=\"dataframe\">\n",
       "  <thead>\n",
       "    <tr style=\"text-align: right;\">\n",
       "      <th></th>\n",
       "      <th>CustomerID</th>\n",
       "      <th>Description</th>\n",
       "      <th>Quantity</th>\n",
       "      <th>UnitPrice</th>\n",
       "      <th>Month</th>\n",
       "      <th>Day</th>\n",
       "      <th>Cluster_Id</th>\n",
       "    </tr>\n",
       "  </thead>\n",
       "  <tbody>\n",
       "    <tr>\n",
       "      <th>27103</th>\n",
       "      <td>-0.366402</td>\n",
       "      <td>0.913272</td>\n",
       "      <td>-0.924028</td>\n",
       "      <td>1.783787</td>\n",
       "      <td>-1.959373</td>\n",
       "      <td>0.224430</td>\n",
       "      <td>4</td>\n",
       "    </tr>\n",
       "    <tr>\n",
       "      <th>24104</th>\n",
       "      <td>1.158012</td>\n",
       "      <td>-0.185949</td>\n",
       "      <td>-0.026889</td>\n",
       "      <td>1.783787</td>\n",
       "      <td>-1.959373</td>\n",
       "      <td>-0.581562</td>\n",
       "      <td>4</td>\n",
       "    </tr>\n",
       "    <tr>\n",
       "      <th>24106</th>\n",
       "      <td>1.158012</td>\n",
       "      <td>1.256462</td>\n",
       "      <td>-0.774505</td>\n",
       "      <td>1.783787</td>\n",
       "      <td>-1.959373</td>\n",
       "      <td>-0.581562</td>\n",
       "      <td>4</td>\n",
       "    </tr>\n",
       "    <tr>\n",
       "      <th>24120</th>\n",
       "      <td>-0.313079</td>\n",
       "      <td>-0.935922</td>\n",
       "      <td>1.916912</td>\n",
       "      <td>2.947222</td>\n",
       "      <td>-1.959373</td>\n",
       "      <td>-0.581562</td>\n",
       "      <td>4</td>\n",
       "    </tr>\n",
       "    <tr>\n",
       "      <th>24121</th>\n",
       "      <td>-0.313079</td>\n",
       "      <td>-0.946016</td>\n",
       "      <td>0.421680</td>\n",
       "      <td>2.947222</td>\n",
       "      <td>-1.959373</td>\n",
       "      <td>-0.581562</td>\n",
       "      <td>4</td>\n",
       "    </tr>\n",
       "    <tr>\n",
       "      <th>24130</th>\n",
       "      <td>-1.124845</td>\n",
       "      <td>-0.873340</td>\n",
       "      <td>0.720727</td>\n",
       "      <td>2.430140</td>\n",
       "      <td>-1.959373</td>\n",
       "      <td>-0.581562</td>\n",
       "      <td>4</td>\n",
       "    </tr>\n",
       "    <tr>\n",
       "      <th>24131</th>\n",
       "      <td>-1.124845</td>\n",
       "      <td>0.681113</td>\n",
       "      <td>0.720727</td>\n",
       "      <td>2.430140</td>\n",
       "      <td>-1.959373</td>\n",
       "      <td>-0.581562</td>\n",
       "      <td>4</td>\n",
       "    </tr>\n",
       "    <tr>\n",
       "      <th>24132</th>\n",
       "      <td>-1.124845</td>\n",
       "      <td>-1.507234</td>\n",
       "      <td>0.720727</td>\n",
       "      <td>2.430140</td>\n",
       "      <td>-1.959373</td>\n",
       "      <td>-0.581562</td>\n",
       "      <td>4</td>\n",
       "    </tr>\n",
       "    <tr>\n",
       "      <th>24138</th>\n",
       "      <td>-0.323744</td>\n",
       "      <td>-1.003551</td>\n",
       "      <td>-0.774505</td>\n",
       "      <td>2.430140</td>\n",
       "      <td>-1.959373</td>\n",
       "      <td>-0.581562</td>\n",
       "      <td>4</td>\n",
       "    </tr>\n",
       "    <tr>\n",
       "      <th>24141</th>\n",
       "      <td>-0.323744</td>\n",
       "      <td>-0.345432</td>\n",
       "      <td>-0.176412</td>\n",
       "      <td>2.430140</td>\n",
       "      <td>-1.959373</td>\n",
       "      <td>-0.581562</td>\n",
       "      <td>4</td>\n",
       "    </tr>\n",
       "    <tr>\n",
       "      <th>24142</th>\n",
       "      <td>-0.323744</td>\n",
       "      <td>-1.606154</td>\n",
       "      <td>-0.475458</td>\n",
       "      <td>2.430140</td>\n",
       "      <td>-1.959373</td>\n",
       "      <td>-0.581562</td>\n",
       "      <td>4</td>\n",
       "    </tr>\n",
       "  </tbody>\n",
       "</table>\n",
       "</div>"
      ],
      "text/plain": [
       "       CustomerID  Description  Quantity  UnitPrice     Month       Day  \\\n",
       "27103   -0.366402     0.913272 -0.924028   1.783787 -1.959373  0.224430   \n",
       "24104    1.158012    -0.185949 -0.026889   1.783787 -1.959373 -0.581562   \n",
       "24106    1.158012     1.256462 -0.774505   1.783787 -1.959373 -0.581562   \n",
       "24120   -0.313079    -0.935922  1.916912   2.947222 -1.959373 -0.581562   \n",
       "24121   -0.313079    -0.946016  0.421680   2.947222 -1.959373 -0.581562   \n",
       "24130   -1.124845    -0.873340  0.720727   2.430140 -1.959373 -0.581562   \n",
       "24131   -1.124845     0.681113  0.720727   2.430140 -1.959373 -0.581562   \n",
       "24132   -1.124845    -1.507234  0.720727   2.430140 -1.959373 -0.581562   \n",
       "24138   -0.323744    -1.003551 -0.774505   2.430140 -1.959373 -0.581562   \n",
       "24141   -0.323744    -0.345432 -0.176412   2.430140 -1.959373 -0.581562   \n",
       "24142   -0.323744    -1.606154 -0.475458   2.430140 -1.959373 -0.581562   \n",
       "\n",
       "       Cluster_Id  \n",
       "27103           4  \n",
       "24104           4  \n",
       "24106           4  \n",
       "24120           4  \n",
       "24121           4  \n",
       "24130           4  \n",
       "24131           4  \n",
       "24132           4  \n",
       "24138           4  \n",
       "24141           4  \n",
       "24142           4  "
      ]
     },
     "execution_count": 40,
     "metadata": {},
     "output_type": "execute_result"
    }
   ],
   "source": [
    "data_scaled[data_scaled['Cluster_Id']==4].sort_values(by=['Month']).head(11)\n"
   ]
  },
  {
   "cell_type": "code",
   "execution_count": 41,
   "id": "35cf9319",
   "metadata": {
    "execution": {
     "iopub.execute_input": "2025-10-16T12:36:43.298474Z",
     "iopub.status.busy": "2025-10-16T12:36:43.298155Z",
     "iopub.status.idle": "2025-10-16T12:36:43.309831Z",
     "shell.execute_reply": "2025-10-16T12:36:43.308868Z"
    },
    "papermill": {
     "duration": 0.036381,
     "end_time": "2025-10-16T12:36:43.311526",
     "exception": false,
     "start_time": "2025-10-16T12:36:43.275145",
     "status": "completed"
    },
    "tags": []
   },
   "outputs": [
    {
     "data": {
      "text/plain": [
       "Cluster_Id\n",
       "2    78779\n",
       "3    73665\n",
       "0    68014\n",
       "4    49415\n",
       "1    30430\n",
       "Name: count, dtype: int64"
      ]
     },
     "execution_count": 41,
     "metadata": {},
     "output_type": "execute_result"
    }
   ],
   "source": [
    "data_scaled['Cluster_Id'].value_counts()\n"
   ]
  },
  {
   "cell_type": "markdown",
   "id": "4711396d",
   "metadata": {
    "papermill": {
     "duration": 0.021582,
     "end_time": "2025-10-16T12:36:43.354860",
     "exception": false,
     "start_time": "2025-10-16T12:36:43.333278",
     "status": "completed"
    },
    "tags": []
   },
   "source": [
    "after KMeans clustering, build LogisticRegression, DecisionTreeClassifier and XGBClassifier for better accuracy, these models are giving better accuracy."
   ]
  },
  {
   "cell_type": "markdown",
   "id": "8d29e4a5",
   "metadata": {
    "papermill": {
     "duration": 0.02129,
     "end_time": "2025-10-16T12:36:43.397795",
     "exception": false,
     "start_time": "2025-10-16T12:36:43.376505",
     "status": "completed"
    },
    "tags": []
   },
   "source": [
    "# Model Building:\n",
    "Declaring independent and dependent variables as x and y."
   ]
  },
  {
   "cell_type": "code",
   "execution_count": 42,
   "id": "e35f2d81",
   "metadata": {
    "execution": {
     "iopub.execute_input": "2025-10-16T12:36:43.442623Z",
     "iopub.status.busy": "2025-10-16T12:36:43.441901Z",
     "iopub.status.idle": "2025-10-16T12:36:43.451793Z",
     "shell.execute_reply": "2025-10-16T12:36:43.450862Z"
    },
    "papermill": {
     "duration": 0.034067,
     "end_time": "2025-10-16T12:36:43.453524",
     "exception": false,
     "start_time": "2025-10-16T12:36:43.419457",
     "status": "completed"
    },
    "tags": []
   },
   "outputs": [],
   "source": [
    "x = data_scaled.loc[:,['CustomerID','Description','Quantity','UnitPrice','Month','Day']]\n",
    "y = data_scaled.loc[:,['Cluster_Id']]"
   ]
  },
  {
   "cell_type": "markdown",
   "id": "02d1cd23",
   "metadata": {
    "papermill": {
     "duration": 0.021643,
     "end_time": "2025-10-16T12:36:43.497438",
     "exception": false,
     "start_time": "2025-10-16T12:36:43.475795",
     "status": "completed"
    },
    "tags": []
   },
   "source": [
    "# Splitting Data:"
   ]
  },
  {
   "cell_type": "code",
   "execution_count": 43,
   "id": "22575809",
   "metadata": {
    "execution": {
     "iopub.execute_input": "2025-10-16T12:36:43.541943Z",
     "iopub.status.busy": "2025-10-16T12:36:43.541303Z",
     "iopub.status.idle": "2025-10-16T12:36:43.582697Z",
     "shell.execute_reply": "2025-10-16T12:36:43.581731Z"
    },
    "papermill": {
     "duration": 0.065622,
     "end_time": "2025-10-16T12:36:43.584511",
     "exception": false,
     "start_time": "2025-10-16T12:36:43.518889",
     "status": "completed"
    },
    "tags": []
   },
   "outputs": [],
   "source": [
    "from sklearn.model_selection import train_test_split\n",
    "x_train,x_test,y_train,y_test=train_test_split(x,y, train_size=0.8,random_state=123)"
   ]
  },
  {
   "cell_type": "markdown",
   "id": "b299646d",
   "metadata": {
    "papermill": {
     "duration": 0.022203,
     "end_time": "2025-10-16T12:36:43.629697",
     "exception": false,
     "start_time": "2025-10-16T12:36:43.607494",
     "status": "completed"
    },
    "tags": []
   },
   "source": [
    "# LogisticRegression:"
   ]
  },
  {
   "cell_type": "markdown",
   "id": "b5549e3c",
   "metadata": {
    "papermill": {
     "duration": 0.021444,
     "end_time": "2025-10-16T12:36:43.672983",
     "exception": false,
     "start_time": "2025-10-16T12:36:43.651539",
     "status": "completed"
    },
    "tags": []
   },
   "source": [
    "This is a classification problem so importing LogisticRegression from sklearn.linear_model package for building a Logisticregression model."
   ]
  },
  {
   "cell_type": "code",
   "execution_count": 44,
   "id": "62bce797",
   "metadata": {
    "execution": {
     "iopub.execute_input": "2025-10-16T12:36:43.719138Z",
     "iopub.status.busy": "2025-10-16T12:36:43.718695Z",
     "iopub.status.idle": "2025-10-16T12:36:43.723744Z",
     "shell.execute_reply": "2025-10-16T12:36:43.722847Z"
    },
    "papermill": {
     "duration": 0.030398,
     "end_time": "2025-10-16T12:36:43.725227",
     "exception": false,
     "start_time": "2025-10-16T12:36:43.694829",
     "status": "completed"
    },
    "tags": []
   },
   "outputs": [],
   "source": [
    "# Importing LogisticRegression:\n",
    "from sklearn.linear_model import LogisticRegression"
   ]
  },
  {
   "cell_type": "code",
   "execution_count": 45,
   "id": "42f2f483",
   "metadata": {
    "execution": {
     "iopub.execute_input": "2025-10-16T12:36:43.770409Z",
     "iopub.status.busy": "2025-10-16T12:36:43.769782Z",
     "iopub.status.idle": "2025-10-16T12:36:47.992915Z",
     "shell.execute_reply": "2025-10-16T12:36:47.992112Z"
    },
    "papermill": {
     "duration": 4.247508,
     "end_time": "2025-10-16T12:36:47.994646",
     "exception": false,
     "start_time": "2025-10-16T12:36:43.747138",
     "status": "completed"
    },
    "tags": []
   },
   "outputs": [],
   "source": [
    "logistic = LogisticRegression().fit(x_train, y_train)\n",
    "pred = logistic.predict(x_test)"
   ]
  },
  {
   "cell_type": "code",
   "execution_count": 46,
   "id": "aa314b29",
   "metadata": {
    "execution": {
     "iopub.execute_input": "2025-10-16T12:36:48.039348Z",
     "iopub.status.busy": "2025-10-16T12:36:48.039038Z",
     "iopub.status.idle": "2025-10-16T12:36:48.065541Z",
     "shell.execute_reply": "2025-10-16T12:36:48.064477Z"
    },
    "papermill": {
     "duration": 0.050904,
     "end_time": "2025-10-16T12:36:48.067225",
     "exception": false,
     "start_time": "2025-10-16T12:36:48.016321",
     "status": "completed"
    },
    "tags": []
   },
   "outputs": [
    {
     "name": "stdout",
     "output_type": "stream",
     "text": [
      "[[13647     4     4     0     0]\n",
      " [    4  6100     2     1     1]\n",
      " [   11     3 15708     4     2]\n",
      " [    9     4     8 14709     0]\n",
      " [    7     1     5     2  9825]]\n",
      "0.9988012187609264\n"
     ]
    }
   ],
   "source": [
    "from sklearn.metrics import accuracy_score, confusion_matrix, classification_report\n",
    "print(confusion_matrix(pred,y_test))\n",
    "lr_acc = accuracy_score(pred,y_test)\n",
    "print(lr_acc)"
   ]
  },
  {
   "cell_type": "code",
   "execution_count": 47,
   "id": "9673625f",
   "metadata": {
    "execution": {
     "iopub.execute_input": "2025-10-16T12:36:48.112571Z",
     "iopub.status.busy": "2025-10-16T12:36:48.112229Z",
     "iopub.status.idle": "2025-10-16T12:36:48.228183Z",
     "shell.execute_reply": "2025-10-16T12:36:48.227116Z"
    },
    "papermill": {
     "duration": 0.140738,
     "end_time": "2025-10-16T12:36:48.229937",
     "exception": false,
     "start_time": "2025-10-16T12:36:48.089199",
     "status": "completed"
    },
    "tags": []
   },
   "outputs": [
    {
     "name": "stdout",
     "output_type": "stream",
     "text": [
      "              precision    recall  f1-score   support\n",
      "\n",
      "           0       1.00      1.00      1.00     13678\n",
      "           1       1.00      1.00      1.00      6112\n",
      "           2       1.00      1.00      1.00     15727\n",
      "           3       1.00      1.00      1.00     14716\n",
      "           4       1.00      1.00      1.00      9828\n",
      "\n",
      "    accuracy                           1.00     60061\n",
      "   macro avg       1.00      1.00      1.00     60061\n",
      "weighted avg       1.00      1.00      1.00     60061\n",
      "\n"
     ]
    }
   ],
   "source": [
    "print(classification_report(y_test, pred))"
   ]
  },
  {
   "cell_type": "markdown",
   "id": "6e351b7e",
   "metadata": {
    "papermill": {
     "duration": 0.021774,
     "end_time": "2025-10-16T12:36:48.273791",
     "exception": false,
     "start_time": "2025-10-16T12:36:48.252017",
     "status": "completed"
    },
    "tags": []
   },
   "source": [
    "# DecisionTreeClassifier:"
   ]
  },
  {
   "cell_type": "code",
   "execution_count": 48,
   "id": "d36ac39a",
   "metadata": {
    "execution": {
     "iopub.execute_input": "2025-10-16T12:36:48.318678Z",
     "iopub.status.busy": "2025-10-16T12:36:48.318338Z",
     "iopub.status.idle": "2025-10-16T12:36:48.323263Z",
     "shell.execute_reply": "2025-10-16T12:36:48.322254Z"
    },
    "papermill": {
     "duration": 0.029583,
     "end_time": "2025-10-16T12:36:48.325156",
     "exception": false,
     "start_time": "2025-10-16T12:36:48.295573",
     "status": "completed"
    },
    "tags": []
   },
   "outputs": [],
   "source": [
    "# Importing DecisionTreeClassifier:\n",
    "from sklearn.tree import DecisionTreeClassifier"
   ]
  },
  {
   "cell_type": "code",
   "execution_count": 49,
   "id": "03b31929",
   "metadata": {
    "execution": {
     "iopub.execute_input": "2025-10-16T12:36:48.372428Z",
     "iopub.status.busy": "2025-10-16T12:36:48.372058Z",
     "iopub.status.idle": "2025-10-16T12:36:49.266626Z",
     "shell.execute_reply": "2025-10-16T12:36:49.265661Z"
    },
    "papermill": {
     "duration": 0.920274,
     "end_time": "2025-10-16T12:36:49.268280",
     "exception": false,
     "start_time": "2025-10-16T12:36:48.348006",
     "status": "completed"
    },
    "tags": []
   },
   "outputs": [
    {
     "data": {
      "text/plain": [
       "array([1, 0, 1, ..., 2, 3, 0], dtype=int32)"
      ]
     },
     "execution_count": 49,
     "metadata": {},
     "output_type": "execute_result"
    }
   ],
   "source": [
    "dt=DecisionTreeClassifier().fit(x_train,y_train)\n",
    "predicted=dt.predict(x_test)\n",
    "predicted"
   ]
  },
  {
   "cell_type": "markdown",
   "id": "17dd5ebe",
   "metadata": {
    "papermill": {
     "duration": 0.022467,
     "end_time": "2025-10-16T12:36:49.312549",
     "exception": false,
     "start_time": "2025-10-16T12:36:49.290082",
     "status": "completed"
    },
    "tags": []
   },
   "source": [
    "# Model Evaluation:"
   ]
  },
  {
   "cell_type": "code",
   "execution_count": 50,
   "id": "884e32a7",
   "metadata": {
    "execution": {
     "iopub.execute_input": "2025-10-16T12:36:49.358729Z",
     "iopub.status.busy": "2025-10-16T12:36:49.358404Z",
     "iopub.status.idle": "2025-10-16T12:36:49.377501Z",
     "shell.execute_reply": "2025-10-16T12:36:49.376575Z"
    },
    "papermill": {
     "duration": 0.044186,
     "end_time": "2025-10-16T12:36:49.379117",
     "exception": false,
     "start_time": "2025-10-16T12:36:49.334931",
     "status": "completed"
    },
    "tags": []
   },
   "outputs": [
    {
     "data": {
      "text/plain": [
       "array([[13550,    18,     9,    53,    49],\n",
       "       [   14,  6061,    16,    13,     1],\n",
       "       [   17,    25, 15606,    45,    69],\n",
       "       [   44,     6,    43, 14593,     5],\n",
       "       [   53,     2,    53,    12,  9704]])"
      ]
     },
     "execution_count": 50,
     "metadata": {},
     "output_type": "execute_result"
    }
   ],
   "source": [
    "from sklearn.metrics import accuracy_score, confusion_matrix\n",
    "confusion_matrix(predicted,y_test)"
   ]
  },
  {
   "cell_type": "code",
   "execution_count": 51,
   "id": "d35bb188",
   "metadata": {
    "execution": {
     "iopub.execute_input": "2025-10-16T12:36:49.425319Z",
     "iopub.status.busy": "2025-10-16T12:36:49.424653Z",
     "iopub.status.idle": "2025-10-16T12:36:49.436544Z",
     "shell.execute_reply": "2025-10-16T12:36:49.435614Z"
    },
    "papermill": {
     "duration": 0.036514,
     "end_time": "2025-10-16T12:36:49.438101",
     "exception": false,
     "start_time": "2025-10-16T12:36:49.401587",
     "status": "completed"
    },
    "tags": []
   },
   "outputs": [
    {
     "data": {
      "text/plain": [
       "0.9908925925309269"
      ]
     },
     "execution_count": 51,
     "metadata": {},
     "output_type": "execute_result"
    }
   ],
   "source": [
    "dt_acc = accuracy_score(predicted,y_test)\n",
    "dt_acc"
   ]
  },
  {
   "cell_type": "markdown",
   "id": "f7c82b3c",
   "metadata": {
    "papermill": {
     "duration": 0.022206,
     "end_time": "2025-10-16T12:36:49.482523",
     "exception": false,
     "start_time": "2025-10-16T12:36:49.460317",
     "status": "completed"
    },
    "tags": []
   },
   "source": [
    "# classification_report"
   ]
  },
  {
   "cell_type": "code",
   "execution_count": 52,
   "id": "7003b171",
   "metadata": {
    "execution": {
     "iopub.execute_input": "2025-10-16T12:36:49.528690Z",
     "iopub.status.busy": "2025-10-16T12:36:49.528367Z",
     "iopub.status.idle": "2025-10-16T12:36:49.643727Z",
     "shell.execute_reply": "2025-10-16T12:36:49.642666Z"
    },
    "papermill": {
     "duration": 0.140354,
     "end_time": "2025-10-16T12:36:49.645308",
     "exception": false,
     "start_time": "2025-10-16T12:36:49.504954",
     "status": "completed"
    },
    "tags": []
   },
   "outputs": [
    {
     "name": "stdout",
     "output_type": "stream",
     "text": [
      "              precision    recall  f1-score   support\n",
      "\n",
      "           0       0.99      0.99      0.99     13678\n",
      "           1       0.99      0.99      0.99      6112\n",
      "           2       0.99      0.99      0.99     15727\n",
      "           3       0.99      0.99      0.99     14716\n",
      "           4       0.99      0.99      0.99      9828\n",
      "\n",
      "    accuracy                           0.99     60061\n",
      "   macro avg       0.99      0.99      0.99     60061\n",
      "weighted avg       0.99      0.99      0.99     60061\n",
      "\n"
     ]
    }
   ],
   "source": [
    "from sklearn.metrics import classification_report\n",
    "print(classification_report(y_test, predicted))"
   ]
  },
  {
   "cell_type": "markdown",
   "id": "c22c7418",
   "metadata": {
    "papermill": {
     "duration": 0.022779,
     "end_time": "2025-10-16T12:36:49.690318",
     "exception": false,
     "start_time": "2025-10-16T12:36:49.667539",
     "status": "completed"
    },
    "tags": []
   },
   "source": [
    "# RandomForestClassifier:"
   ]
  },
  {
   "cell_type": "code",
   "execution_count": 53,
   "id": "0a1a4212",
   "metadata": {
    "execution": {
     "iopub.execute_input": "2025-10-16T12:36:49.735884Z",
     "iopub.status.busy": "2025-10-16T12:36:49.735530Z",
     "iopub.status.idle": "2025-10-16T12:37:18.734238Z",
     "shell.execute_reply": "2025-10-16T12:37:18.733133Z"
    },
    "papermill": {
     "duration": 29.023469,
     "end_time": "2025-10-16T12:37:18.735992",
     "exception": false,
     "start_time": "2025-10-16T12:36:49.712523",
     "status": "completed"
    },
    "tags": []
   },
   "outputs": [
    {
     "name": "stdout",
     "output_type": "stream",
     "text": [
      "              precision    recall  f1-score   support\n",
      "\n",
      "           0       0.99      0.99      0.99     13654\n",
      "           1       1.00      1.00      1.00      6109\n",
      "           2       1.00      0.99      0.99     15749\n",
      "           3       0.99      1.00      1.00     14705\n",
      "           4       0.99      0.99      0.99      9844\n",
      "\n",
      "    accuracy                           0.99     60061\n",
      "   macro avg       0.99      0.99      0.99     60061\n",
      "weighted avg       0.99      0.99      0.99     60061\n",
      "\n"
     ]
    }
   ],
   "source": [
    "from sklearn.ensemble import RandomForestClassifier\n",
    "\n",
    "rf = RandomForestClassifier()\n",
    "rf.fit(x_train, y_train)\n",
    "pred_rf = rf.predict(x_test)\n",
    "cr_rf = classification_report(pred_rf, y_test)\n",
    "rf_acc=accuracy_score(pred_rf,y_test)\n",
    "print(cr_rf)"
   ]
  },
  {
   "cell_type": "markdown",
   "id": "111318a9",
   "metadata": {
    "papermill": {
     "duration": 0.021864,
     "end_time": "2025-10-16T12:37:18.780161",
     "exception": false,
     "start_time": "2025-10-16T12:37:18.758297",
     "status": "completed"
    },
    "tags": []
   },
   "source": [
    "# XGBClassifier:"
   ]
  },
  {
   "cell_type": "code",
   "execution_count": 54,
   "id": "d50fe0ed",
   "metadata": {
    "execution": {
     "iopub.execute_input": "2025-10-16T12:37:18.826550Z",
     "iopub.status.busy": "2025-10-16T12:37:18.825682Z",
     "iopub.status.idle": "2025-10-16T12:37:19.115130Z",
     "shell.execute_reply": "2025-10-16T12:37:19.114290Z"
    },
    "papermill": {
     "duration": 0.314482,
     "end_time": "2025-10-16T12:37:19.116693",
     "exception": false,
     "start_time": "2025-10-16T12:37:18.802211",
     "status": "completed"
    },
    "tags": []
   },
   "outputs": [],
   "source": [
    "# Importing and performing XGBClassifier:\n",
    "from xgboost import XGBClassifier"
   ]
  },
  {
   "cell_type": "code",
   "execution_count": 55,
   "id": "abc91f87",
   "metadata": {
    "execution": {
     "iopub.execute_input": "2025-10-16T12:37:19.163166Z",
     "iopub.status.busy": "2025-10-16T12:37:19.162873Z",
     "iopub.status.idle": "2025-10-16T12:37:25.752320Z",
     "shell.execute_reply": "2025-10-16T12:37:25.751424Z"
    },
    "papermill": {
     "duration": 6.614046,
     "end_time": "2025-10-16T12:37:25.753856",
     "exception": false,
     "start_time": "2025-10-16T12:37:19.139810",
     "status": "completed"
    },
    "tags": []
   },
   "outputs": [
    {
     "data": {
      "text/plain": [
       "0.9964036562827792"
      ]
     },
     "execution_count": 55,
     "metadata": {},
     "output_type": "execute_result"
    }
   ],
   "source": [
    "model = XGBClassifier()\n",
    "model.fit(x_train, y_train)\n",
    "y_pred = model.predict(x_test)\n",
    "predictions = [round(value) for value in y_pred]\n",
    "xgbr_acc = accuracy_score(y_test, predictions)\n",
    "xgbr_acc "
   ]
  },
  {
   "cell_type": "markdown",
   "id": "285f9651",
   "metadata": {
    "papermill": {
     "duration": 0.022352,
     "end_time": "2025-10-16T12:37:25.799629",
     "exception": false,
     "start_time": "2025-10-16T12:37:25.777277",
     "status": "completed"
    },
    "tags": []
   },
   "source": [
    "# Comparing Models:"
   ]
  },
  {
   "cell_type": "code",
   "execution_count": 56,
   "id": "81ccd43b",
   "metadata": {
    "execution": {
     "iopub.execute_input": "2025-10-16T12:37:25.846603Z",
     "iopub.status.busy": "2025-10-16T12:37:25.846285Z",
     "iopub.status.idle": "2025-10-16T12:37:25.856234Z",
     "shell.execute_reply": "2025-10-16T12:37:25.855365Z"
    },
    "papermill": {
     "duration": 0.03482,
     "end_time": "2025-10-16T12:37:25.857629",
     "exception": false,
     "start_time": "2025-10-16T12:37:25.822809",
     "status": "completed"
    },
    "tags": []
   },
   "outputs": [
    {
     "data": {
      "text/html": [
       "<div>\n",
       "<style scoped>\n",
       "    .dataframe tbody tr th:only-of-type {\n",
       "        vertical-align: middle;\n",
       "    }\n",
       "\n",
       "    .dataframe tbody tr th {\n",
       "        vertical-align: top;\n",
       "    }\n",
       "\n",
       "    .dataframe thead th {\n",
       "        text-align: right;\n",
       "    }\n",
       "</style>\n",
       "<table border=\"1\" class=\"dataframe\">\n",
       "  <thead>\n",
       "    <tr style=\"text-align: right;\">\n",
       "      <th></th>\n",
       "      <th>model</th>\n",
       "      <th>Accuracy</th>\n",
       "    </tr>\n",
       "  </thead>\n",
       "  <tbody>\n",
       "    <tr>\n",
       "      <th>0</th>\n",
       "      <td>LogisticRegression</td>\n",
       "      <td>0.998801</td>\n",
       "    </tr>\n",
       "    <tr>\n",
       "      <th>1</th>\n",
       "      <td>DecisionTreeClassifier</td>\n",
       "      <td>0.990893</td>\n",
       "    </tr>\n",
       "    <tr>\n",
       "      <th>2</th>\n",
       "      <td>RandomForestClassifier</td>\n",
       "      <td>0.994089</td>\n",
       "    </tr>\n",
       "    <tr>\n",
       "      <th>3</th>\n",
       "      <td>XGBClassifier</td>\n",
       "      <td>0.996404</td>\n",
       "    </tr>\n",
       "  </tbody>\n",
       "</table>\n",
       "</div>"
      ],
      "text/plain": [
       "                    model  Accuracy\n",
       "0      LogisticRegression  0.998801\n",
       "1  DecisionTreeClassifier  0.990893\n",
       "2  RandomForestClassifier  0.994089\n",
       "3           XGBClassifier  0.996404"
      ]
     },
     "execution_count": 56,
     "metadata": {},
     "output_type": "execute_result"
    }
   ],
   "source": [
    "compare = {'model':['LogisticRegression','DecisionTreeClassifier','RandomForestClassifier','XGBClassifier'],\n",
    "           'Accuracy':[lr_acc,dt_acc,rf_acc,xgbr_acc]}\n",
    "compare_df = pd.DataFrame(compare)\n",
    "compare_df"
   ]
  },
  {
   "cell_type": "code",
   "execution_count": 57,
   "id": "0c6bd5cf",
   "metadata": {
    "execution": {
     "iopub.execute_input": "2025-10-16T12:37:25.906370Z",
     "iopub.status.busy": "2025-10-16T12:37:25.906046Z",
     "iopub.status.idle": "2025-10-16T12:37:26.047061Z",
     "shell.execute_reply": "2025-10-16T12:37:26.046074Z"
    },
    "papermill": {
     "duration": 0.16772,
     "end_time": "2025-10-16T12:37:26.048597",
     "exception": false,
     "start_time": "2025-10-16T12:37:25.880877",
     "status": "completed"
    },
    "tags": []
   },
   "outputs": [
    {
     "data": {
      "image/png": "[encoded data removed]",
      "text/plain": [
       "<Figure size 1000x500 with 1 Axes>"
      ]
     },
     "metadata": {},
     "output_type": "display_data"
    }
   ],
   "source": [
    "plt.figure(figsize=(10,5))\n",
    "sns.barplot(x='model',y='Accuracy',data=compare_df)\n",
    "plt.show()"
   ]
  },
  {
   "cell_type": "markdown",
   "id": "78684dd0",
   "metadata": {
    "papermill": {
     "duration": 0.023764,
     "end_time": "2025-10-16T12:37:26.099040",
     "exception": false,
     "start_time": "2025-10-16T12:37:26.075276",
     "status": "completed"
    },
    "tags": []
   },
   "source": [
    "# Inferences:"
   ]
  },
  {
   "cell_type": "markdown",
   "id": "a61490af",
   "metadata": {
    "papermill": {
     "duration": 0.022818,
     "end_time": "2025-10-16T12:37:26.144977",
     "exception": false,
     "start_time": "2025-10-16T12:37:26.122159",
     "status": "completed"
    },
    "tags": []
   },
   "source": [
    "Now we can easily compare models and choose best one."
   ]
  },
  {
   "cell_type": "code",
   "execution_count": null,
   "id": "4b7f8f12",
   "metadata": {
    "papermill": {
     "duration": 0.023899,
     "end_time": "2025-10-16T12:37:26.192441",
     "exception": false,
     "start_time": "2025-10-16T12:37:26.168542",
     "status": "completed"
    },
    "tags": []
   },
   "outputs": [],
   "source": []
  }
 ],
 "metadata": {
  "kaggle": {
   "accelerator": "none",
   "dataSources": [
    {
     "datasetId": 3886183,
     "sourceId": 6749811,
     "sourceType": "datasetVersion"
    }
   ],
   "dockerImageVersionId": 31153,
   "isGpuEnabled": false,
   "isInternetEnabled": true,
   "language": "python",
   "sourceType": "notebook"
  },
  "kernelspec": {
   "display_name": "Python 3",
   "language": "python",
   "name": "python3"
  },
  "language_info": {
   "codemirror_mode": {
    "name": "ipython",
    "version": 3
   },
   "file_extension": ".py",
   "mimetype": "text/x-python",
   "name": "python",
   "nbconvert_exporter": "python",
   "pygments_lexer": "ipython3",
   "version": "3.11.13"
  },
  "papermill": {
   "default_parameters": {},
   "duration": 78.218778,
   "end_time": "2025-10-16T12:37:27.037192",
   "environment_variables": {},
   "exception": null,
   "input_path": "__notebook__.ipynb",
   "output_path": "__notebook__.ipynb",
   "parameters": {},
   "start_time": "2025-10-16T12:36:08.818414",
   "version": "2.6.0"
  }
 },
 "nbformat": 4,
 "nbformat_minor": 5
}
